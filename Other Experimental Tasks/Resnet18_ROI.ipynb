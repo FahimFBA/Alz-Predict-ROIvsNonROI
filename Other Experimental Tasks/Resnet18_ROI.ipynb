{
 "cells": [
  {
   "cell_type": "code",
   "execution_count": 1,
   "metadata": {},
   "outputs": [
    {
     "name": "stderr",
     "output_type": "stream",
     "text": [
      "/home/uiu/miniconda3/envs/tf_conda/lib/python3.7/site-packages/tqdm/auto.py:21: TqdmWarning: IProgress not found. Please update jupyter and ipywidgets. See https://ipywidgets.readthedocs.io/en/stable/user_install.html\n",
      "  from .autonotebook import tqdm as notebook_tqdm\n",
      "2024-03-27 14:57:21.609115: I tensorflow/stream_executor/platform/default/dso_loader.cc:49] Successfully opened dynamic library libcudart.so.10.1\n"
     ]
    }
   ],
   "source": [
    "import os\n",
    "import pandas as pd\n",
    "import numpy as np\n",
    "import torch\n",
    "from sklearn.preprocessing import LabelEncoder\n",
    "import nibabel\n",
    "import matplotlib.pyplot as plt\n",
    "from sklearn.metrics import accuracy_score\n",
    "from sklearn.model_selection import train_test_split\n",
    "import tensorflow as tf\n",
    "import cv2\n",
    "from skimage.filters import unsharp_mask"
   ]
  },
  {
   "cell_type": "code",
   "execution_count": 3,
   "metadata": {},
   "outputs": [
    {
     "name": "stdout",
     "output_type": "stream",
     "text": [
      "1 Physical GPUs, 1 Logical GPUs\n"
     ]
    }
   ],
   "source": [
    "gpus = tf.config.list_physical_devices('GPU')\n",
    "if gpus:\n",
    "    for gpu in gpus:\n",
    "        tf.config.experimental.set_memory_growth(gpu, True)\n",
    "    logical_gpus = tf.config.list_logical_devices('GPU')\n",
    "    print(len(gpus), \"Physical GPUs,\", len(logical_gpus), \"Logical GPUs\")"
   ]
  },
  {
   "cell_type": "code",
   "execution_count": 4,
   "metadata": {},
   "outputs": [],
   "source": [
    "# gpus = tf.config.experimental.list_physical_devices('GPU')\n",
    "# if gpus:\n",
    "#     for gpu in gpus:\n",
    "#         tf.config.experimental.set_visible_devices(gpus[0], 'GPU')\n",
    "#         logical_gpus = tf.config.experimental.list_logical_devices('GPU')\n",
    "#         print(len(gpus), \"Physical GPUs,\", len(logical_gpus), \"Logical GPUs\")"
   ]
  },
  {
   "cell_type": "code",
   "execution_count": 5,
   "metadata": {},
   "outputs": [
    {
     "name": "stdout",
     "output_type": "stream",
     "text": [
      "Num GPUs Available:  1\n"
     ]
    }
   ],
   "source": [
    "print(\"Num GPUs Available: \", len(tf.config.list_physical_devices('GPU')))"
   ]
  },
  {
   "cell_type": "code",
   "execution_count": 6,
   "metadata": {},
   "outputs": [
    {
     "data": {
      "text/plain": [
       "[PhysicalDevice(name='/physical_device:CPU:0', device_type='CPU'),\n",
       " PhysicalDevice(name='/physical_device:GPU:0', device_type='GPU')]"
      ]
     },
     "execution_count": 6,
     "metadata": {},
     "output_type": "execute_result"
    }
   ],
   "source": [
    "tf.config.experimental.list_physical_devices()"
   ]
  },
  {
   "cell_type": "code",
   "execution_count": 7,
   "metadata": {},
   "outputs": [
    {
     "data": {
      "text/plain": [
       "False"
      ]
     },
     "execution_count": 7,
     "metadata": {},
     "output_type": "execute_result"
    }
   ],
   "source": [
    "torch.cuda.is_available()"
   ]
  },
  {
   "cell_type": "code",
   "execution_count": 9,
   "metadata": {},
   "outputs": [],
   "source": [
    "# tf.sysconfig.get_build_info()"
   ]
  },
  {
   "cell_type": "code",
   "execution_count": 10,
   "metadata": {},
   "outputs": [],
   "source": [
    "def apply_mask(aseg_image, brain_image, labels = [17, 53, 2, 7, 41, 46]):\n",
    "    brain_data = brain_image.get_fdata()\n",
    "    aseg_data = aseg_image.get_fdata()\n",
    "    brain_mask = np.zeros_like(aseg_data)\n",
    "    for label in labels:\n",
    "        brain_mask += np.where((aseg_data == label), 1, 0)\n",
    "\n",
    "    segmented_brain_image = brain_data * brain_mask\n",
    "    segmented_brain_image = nibabel.Nifti1Image(segmented_brain_image, affine=None)\n",
    "\n",
    "    return segmented_brain_image\n",
    "\n",
    "def resize_image(img_data, size):\n",
    "    resized_img_data = torch.nn.functional.interpolate(\n",
    "        torch.unsqueeze(torch.unsqueeze(torch.tensor(img_data), 0), 0),\n",
    "        size=size, # H x W x D\n",
    "        mode='trilinear',\n",
    "        align_corners=False,\n",
    "    )\n",
    "    return resized_img_data.squeeze().numpy()\n",
    "\n",
    "def crop(image_data, margin = 30):\n",
    "  #cropping a image by 30 from each side\n",
    "    crop_margin = margin\n",
    "    img_shape = image_data.shape\n",
    "    crop_start = (crop_margin, crop_margin, 0)\n",
    "    crop_end = (img_shape[0] - crop_margin, img_shape[1] - crop_margin, img_shape[2])\n",
    "    cropped_image = image_data[crop_start[0]:crop_end[0], crop_start[1]:crop_end[1], crop_start[2]:crop_end[2]]\n",
    "\n",
    "    return cropped_image\n",
    "\n",
    "def enhance_slice(slice_data):\n",
    "    clahe = cv2.createCLAHE(clipLimit=2.0, tileGridSize=(8, 8))\n",
    "    enhanced_slice = clahe.apply(slice_data.astype(np.uint8))\n",
    "\n",
    "    return enhanced_slice\n",
    "\n",
    "def enhance_image(img_data):\n",
    "    enhanced_slices = []\n",
    "    \n",
    "    for slice_idx in range(img_data.shape[2]):\n",
    "        slice_data = img_data[:, :, slice_idx]\n",
    "        enhanced_slice = enhance_slice(slice_data)\n",
    "        enhanced_slices.append(enhanced_slice)\n",
    "    enhanced_volume = np.dstack(enhanced_slices)\n",
    "\n",
    "    return enhanced_volume\n",
    "\n",
    "def sharpen_image(image, strength=1.0):\n",
    "    sharpened_image = unsharp_mask(image, radius=1, amount=strength)\n",
    "    return sharpened_image"
   ]
  },
  {
   "cell_type": "code",
   "execution_count": 11,
   "metadata": {},
   "outputs": [],
   "source": [
    "from __future__ import absolute_import, division, print_function, unicode_literals\n",
    "import six\n",
    "from math import ceil\n",
    "from tensorflow.keras.models import Model\n",
    "from tensorflow.keras.layers import Input, Activation, Dense, Flatten\n",
    "from tensorflow.keras.layers import Conv3D, AveragePooling3D, MaxPooling3D\n",
    "from tensorflow.keras.layers import add\n",
    "from tensorflow.keras.layers import BatchNormalization\n",
    "from tensorflow.keras.regularizers import l2\n",
    "from tensorflow.keras import backend as K\n",
    "\n",
    "\n",
    "def _bn_relu(input):\n",
    "    \"\"\"Helper to build a BN -> relu block (by @raghakot).\"\"\"\n",
    "    norm = BatchNormalization(axis=CHANNEL_AXIS)(input)\n",
    "    return Activation(\"relu\")(norm)\n",
    "\n",
    "\n",
    "def _conv_bn_relu3D(**conv_params):\n",
    "    filters = conv_params[\"filters\"]\n",
    "    kernel_size = conv_params[\"kernel_size\"]\n",
    "    strides = conv_params.setdefault(\"strides\", (1, 1, 1))\n",
    "    kernel_initializer = conv_params.setdefault(\"kernel_initializer\", \"he_normal\")\n",
    "    padding = conv_params.setdefault(\"padding\", \"same\")\n",
    "    kernel_regularizer = conv_params.setdefault(\"kernel_regularizer\", l2(1e-4))\n",
    "\n",
    "    def f(input):\n",
    "        conv = Conv3D(\n",
    "            filters=filters,\n",
    "            kernel_size=kernel_size,\n",
    "            strides=strides,\n",
    "            kernel_initializer=kernel_initializer,\n",
    "            padding=padding,\n",
    "            kernel_regularizer=kernel_regularizer,\n",
    "        )(input)\n",
    "        return _bn_relu(conv)\n",
    "\n",
    "    return f\n",
    "\n",
    "\n",
    "def _bn_relu_conv3d(**conv_params):\n",
    "    \"\"\"Helper to build a  BN -> relu -> conv3d block.\"\"\"\n",
    "    filters = conv_params[\"filters\"]\n",
    "    kernel_size = conv_params[\"kernel_size\"]\n",
    "    strides = conv_params.setdefault(\"strides\", (1, 1, 1))\n",
    "    kernel_initializer = conv_params.setdefault(\"kernel_initializer\", \"he_normal\")\n",
    "    padding = conv_params.setdefault(\"padding\", \"same\")\n",
    "    kernel_regularizer = conv_params.setdefault(\"kernel_regularizer\", l2(1e-4))\n",
    "\n",
    "    def f(input):\n",
    "        activation = _bn_relu(input)\n",
    "        return Conv3D(\n",
    "            filters=filters,\n",
    "            kernel_size=kernel_size,\n",
    "            strides=strides,\n",
    "            kernel_initializer=kernel_initializer,\n",
    "            padding=padding,\n",
    "            kernel_regularizer=kernel_regularizer,\n",
    "        )(activation)\n",
    "\n",
    "    return f\n",
    "\n",
    "\n",
    "def _shortcut3d(input, residual):\n",
    "    \"\"\"3D shortcut to match input and residual and merges them with \"sum\".\"\"\"\n",
    "    stride_dim1 = ceil(input.shape[DIM1_AXIS] / residual.shape[DIM1_AXIS])\n",
    "    stride_dim2 = ceil(input.shape[DIM2_AXIS] / residual.shape[DIM2_AXIS])\n",
    "    stride_dim3 = ceil(input.shape[DIM3_AXIS] / residual.shape[DIM3_AXIS])\n",
    "    equal_channels = residual.shape[CHANNEL_AXIS] == input.shape[CHANNEL_AXIS]\n",
    "\n",
    "    shortcut = input\n",
    "    if stride_dim1 > 1 or stride_dim2 > 1 or stride_dim3 > 1 or not equal_channels:\n",
    "        shortcut = Conv3D(\n",
    "            filters=residual.shape[CHANNEL_AXIS],\n",
    "            kernel_size=(1, 1, 1),\n",
    "            strides=(stride_dim1, stride_dim2, stride_dim3),\n",
    "            kernel_initializer=\"he_normal\",\n",
    "            padding=\"valid\",\n",
    "            kernel_regularizer=l2(1e-4),\n",
    "        )(input)\n",
    "    return add([shortcut, residual])\n",
    "\n",
    "\n",
    "def _residual_block3d(\n",
    "    block_function, filters, kernel_regularizer, repetitions, is_first_layer=False\n",
    "):\n",
    "    def f(input):\n",
    "        for i in range(repetitions):\n",
    "            strides = (1, 1, 1)\n",
    "            if i == 0 and not is_first_layer:\n",
    "                strides = (2, 2, 2)\n",
    "            input = block_function(\n",
    "                filters=filters,\n",
    "                strides=strides,\n",
    "                kernel_regularizer=kernel_regularizer,\n",
    "                is_first_block_of_first_layer=(is_first_layer and i == 0),\n",
    "            )(input)\n",
    "        return input\n",
    "\n",
    "    return f\n",
    "\n",
    "\n",
    "def basic_block(\n",
    "    filters,\n",
    "    strides=(1, 1, 1),\n",
    "    kernel_regularizer=l2(1e-4),\n",
    "    is_first_block_of_first_layer=False,\n",
    "):\n",
    "    \"\"\"Basic 3 X 3 X 3 convolution blocks. Extended from raghakot's 2D impl.\"\"\"\n",
    "\n",
    "    def f(input):\n",
    "        if is_first_block_of_first_layer:\n",
    "            # don't repeat bn->relu since we just did bn->relu->maxpool\n",
    "            conv1 = Conv3D(\n",
    "                filters=filters,\n",
    "                kernel_size=(3, 3, 3),\n",
    "                strides=strides,\n",
    "                padding=\"same\",\n",
    "                kernel_initializer=\"he_normal\",\n",
    "                kernel_regularizer=kernel_regularizer,\n",
    "            )(input)\n",
    "        else:\n",
    "            conv1 = _bn_relu_conv3d(\n",
    "                filters=filters,\n",
    "                kernel_size=(3, 3, 3),\n",
    "                strides=strides,\n",
    "                kernel_regularizer=kernel_regularizer,\n",
    "            )(input)\n",
    "\n",
    "        residual = _bn_relu_conv3d(\n",
    "            filters=filters,\n",
    "            kernel_size=(3, 3, 3),\n",
    "            kernel_regularizer=kernel_regularizer,\n",
    "        )(conv1)\n",
    "        return _shortcut3d(input, residual)\n",
    "\n",
    "    return f\n",
    "\n",
    "\n",
    "def bottleneck(\n",
    "    filters,\n",
    "    strides=(1, 1, 1),\n",
    "    kernel_regularizer=l2(1e-4),\n",
    "    is_first_block_of_first_layer=False,\n",
    "):\n",
    "    \"\"\"Basic 3 X 3 X 3 convolution blocks. Extended from raghakot's 2D impl.\"\"\"\n",
    "\n",
    "    def f(input):\n",
    "        if is_first_block_of_first_layer:\n",
    "            # don't repeat bn->relu since we just did bn->relu->maxpool\n",
    "            conv_1_1 = Conv3D(\n",
    "                filters=filters,\n",
    "                kernel_size=(1, 1, 1),\n",
    "                strides=strides,\n",
    "                padding=\"same\",\n",
    "                kernel_initializer=\"he_normal\",\n",
    "                kernel_regularizer=kernel_regularizer,\n",
    "            )(input)\n",
    "        else:\n",
    "            conv_1_1 = _bn_relu_conv3d(\n",
    "                filters=filters,\n",
    "                kernel_size=(1, 1, 1),\n",
    "                strides=strides,\n",
    "                kernel_regularizer=kernel_regularizer,\n",
    "            )(input)\n",
    "\n",
    "        conv_3_3 = _bn_relu_conv3d(\n",
    "            filters=filters,\n",
    "            kernel_size=(3, 3, 3),\n",
    "            kernel_regularizer=kernel_regularizer,\n",
    "        )(conv_1_1)\n",
    "        residual = _bn_relu_conv3d(\n",
    "            filters=filters * 4,\n",
    "            kernel_size=(1, 1, 1),\n",
    "            kernel_regularizer=kernel_regularizer,\n",
    "        )(conv_3_3)\n",
    "\n",
    "        return _shortcut3d(input, residual)\n",
    "\n",
    "    return f\n",
    "\n",
    "\n",
    "def _handle_data_format():\n",
    "    global DIM1_AXIS\n",
    "    global DIM2_AXIS\n",
    "    global DIM3_AXIS\n",
    "    global CHANNEL_AXIS\n",
    "    if K.image_data_format() == \"channels_last\":\n",
    "        DIM1_AXIS = 1\n",
    "        DIM2_AXIS = 2\n",
    "        DIM3_AXIS = 3\n",
    "        CHANNEL_AXIS = 4\n",
    "    else:\n",
    "        CHANNEL_AXIS = 1\n",
    "        DIM1_AXIS = 2\n",
    "        DIM2_AXIS = 3\n",
    "        DIM3_AXIS = 4\n",
    "\n",
    "\n",
    "def _get_block(identifier):\n",
    "    if isinstance(identifier, six.string_types):\n",
    "        res = globals().get(identifier)\n",
    "        if not res:\n",
    "            raise ValueError(\"Invalid {}\".format(identifier))\n",
    "        return res\n",
    "    return identifier\n",
    "\n",
    "\n",
    "class Resnet3DBuilder(object):\n",
    "    \"\"\"ResNet3D.\"\"\"\n",
    "\n",
    "    @staticmethod\n",
    "    def build(input_shape, num_outputs, block_fn, repetitions, reg_factor):\n",
    "        \"\"\"Instantiate a vanilla ResNet3D keras model.\n",
    "\n",
    "        # Arguments\n",
    "            input_shape: Tuple of input shape in the format\n",
    "            (conv_dim1, conv_dim2, conv_dim3, channels) if dim_ordering='tf'\n",
    "            (filter, conv_dim1, conv_dim2, conv_dim3) if dim_ordering='th'\n",
    "            num_outputs: The number of outputs at the final softmax layer\n",
    "            block_fn: Unit block to use {'basic_block', 'bottlenack_block'}\n",
    "            repetitions: Repetitions of unit blocks\n",
    "        # Returns\n",
    "            model: a 3D ResNet model that takes a 5D tensor (volumetric images\n",
    "            in batch) as input and returns a 1D vector (prediction) as output.\n",
    "        \"\"\"\n",
    "        _handle_data_format()\n",
    "        if len(input_shape) != 4:\n",
    "            raise ValueError(\n",
    "                \"Input shape should be a tuple \"\n",
    "                \"(conv_dim1, conv_dim2, conv_dim3, channels) \"\n",
    "                \"for tensorflow as backend or \"\n",
    "                \"(channels, conv_dim1, conv_dim2, conv_dim3) \"\n",
    "                \"for theano as backend\"\n",
    "            )\n",
    "\n",
    "        block_fn = _get_block(block_fn)\n",
    "        input = Input(shape=input_shape)\n",
    "        # first conv\n",
    "        conv1 = _conv_bn_relu3D(\n",
    "            filters=64,\n",
    "            kernel_size=(7, 7, 7),\n",
    "            strides=(2, 2, 2),\n",
    "            kernel_regularizer=l2(reg_factor),\n",
    "        )(input)\n",
    "        pool1 = MaxPooling3D(pool_size=(3, 3, 3), strides=(2, 2, 2), padding=\"same\")(\n",
    "            conv1\n",
    "        )\n",
    "\n",
    "        # repeat blocks\n",
    "        block = pool1\n",
    "        filters = 64\n",
    "        for i, r in enumerate(repetitions):\n",
    "            block = _residual_block3d(\n",
    "                block_fn,\n",
    "                filters=filters,\n",
    "                kernel_regularizer=l2(reg_factor),\n",
    "                repetitions=r,\n",
    "                is_first_layer=(i == 0),\n",
    "            )(block)\n",
    "            filters *= 2\n",
    "\n",
    "        # last activation\n",
    "        block_output = _bn_relu(block)\n",
    "\n",
    "        # average poll and classification\n",
    "        pool2 = AveragePooling3D(\n",
    "            pool_size=(\n",
    "                block.shape[DIM1_AXIS],\n",
    "                block.shape[DIM2_AXIS],\n",
    "                block.shape[DIM3_AXIS],\n",
    "            ),\n",
    "            strides=(1, 1, 1),\n",
    "        )(block_output)\n",
    "        flatten1 = Flatten()(pool2)\n",
    "        if num_outputs > 1:\n",
    "            dense = Dense(\n",
    "                units=num_outputs,\n",
    "                kernel_initializer=\"he_normal\",\n",
    "                activation=\"softmax\",\n",
    "                kernel_regularizer=l2(reg_factor),\n",
    "            )(flatten1)\n",
    "        else:\n",
    "            dense = Dense(\n",
    "                units=num_outputs,\n",
    "                kernel_initializer=\"he_normal\",\n",
    "                activation=\"sigmoid\",\n",
    "                kernel_regularizer=l2(reg_factor),\n",
    "            )(flatten1)\n",
    "\n",
    "        model = Model(inputs=input, outputs=dense)\n",
    "        return model\n",
    "\n",
    "    @staticmethod\n",
    "    def build_resnet_18(input_shape, num_outputs, reg_factor=1e-4):\n",
    "        \"\"\"Build resnet 18.\"\"\"\n",
    "        return Resnet3DBuilder.build(\n",
    "            input_shape, num_outputs, basic_block, [2, 2, 2, 2], reg_factor=reg_factor\n",
    "        )\n",
    "\n",
    "    @staticmethod\n",
    "    def build_resnet_34(input_shape, num_outputs, reg_factor=1e-4):\n",
    "        \"\"\"Build resnet 34.\"\"\"\n",
    "        return Resnet3DBuilder.build(\n",
    "            input_shape, num_outputs, basic_block, [3, 4, 6, 3], reg_factor=reg_factor\n",
    "        )\n",
    "\n",
    "    @staticmethod\n",
    "    def build_resnet_50(input_shape, num_outputs, reg_factor=1e-4):\n",
    "        \"\"\"Build resnet 50.\"\"\"\n",
    "        return Resnet3DBuilder.build(\n",
    "            input_shape, num_outputs, bottleneck, [3, 4, 6, 3], reg_factor=reg_factor\n",
    "        )\n",
    "\n",
    "    @staticmethod\n",
    "    def build_resnet_101(input_shape, num_outputs, reg_factor=1e-4):\n",
    "        \"\"\"Build resnet 101.\"\"\"\n",
    "        return Resnet3DBuilder.build(\n",
    "            input_shape, num_outputs, bottleneck, [3, 4, 23, 3], reg_factor=reg_factor\n",
    "        )\n",
    "\n",
    "    @staticmethod\n",
    "    def build_resnet_152(input_shape, num_outputs, reg_factor=1e-4):\n",
    "        \"\"\"Build resnet 152.\"\"\"\n",
    "        return Resnet3DBuilder.build(\n",
    "            input_shape, num_outputs, bottleneck, [3, 8, 36, 3], reg_factor=reg_factor\n",
    "        )\n"
   ]
  },
  {
   "cell_type": "code",
   "execution_count": 12,
   "metadata": {},
   "outputs": [],
   "source": [
    "csv_path = \"adni-1-5t-filtered-preprocessed-quickseg-dataset/ADNI_1p5T_Filtered.csv\"\n",
    "base = \"adni-1-5t-filtered-preprocessed-quickseg-dataset\"\n",
    "mri_images = os.listdir(os.path.join(base, \"AD\"))\n",
    "for i in os.listdir(os.path.join(base, \"CN\")):\n",
    "    mri_images.append(i)\n",
    "for i in os.listdir(os.path.join(base, \"MCI\")):\n",
    "    mri_images.append(i)\n",
    "    \n",
    "csv_data = pd.read_csv(csv_path)\n",
    "df = pd.DataFrame(csv_data)"
   ]
  },
  {
   "cell_type": "code",
   "execution_count": 13,
   "metadata": {},
   "outputs": [],
   "source": [
    "mci_data = df[df['Group'] == 'MCI']\n",
    "ad_data = df[df['Group'] == 'AD']\n",
    "cn_data = df[df['Group'] == 'CN']\n",
    "\n",
    "max_len = max(len(mci_data), len(ad_data), len(cn_data))"
   ]
  },
  {
   "cell_type": "code",
   "execution_count": 14,
   "metadata": {},
   "outputs": [
    {
     "data": {
      "text/plain": [
       "(316, 133, 196)"
      ]
     },
     "execution_count": 14,
     "metadata": {},
     "output_type": "execute_result"
    }
   ],
   "source": [
    "len(mci_data), len(ad_data), len(cn_data)"
   ]
  },
  {
   "cell_type": "code",
   "execution_count": 15,
   "metadata": {},
   "outputs": [],
   "source": [
    "from sklearn.utils import resample\n",
    "\n",
    "mci_data_resampled = resample(mci_data, replace=True, n_samples=max_len, random_state=42)\n",
    "ad_data_resampled = resample(ad_data, replace=True, n_samples=max_len, random_state=42)\n",
    "cn_data_resampled = resample(cn_data, replace=True, n_samples=max_len, random_state=42)"
   ]
  },
  {
   "cell_type": "code",
   "execution_count": 16,
   "metadata": {},
   "outputs": [],
   "source": [
    "balanced_df = pd.concat([mci_data_resampled, ad_data_resampled, cn_data_resampled])"
   ]
  },
  {
   "cell_type": "code",
   "execution_count": 17,
   "metadata": {},
   "outputs": [
    {
     "data": {
      "text/plain": [
       "(316, 316, 316)"
      ]
     },
     "execution_count": 17,
     "metadata": {},
     "output_type": "execute_result"
    }
   ],
   "source": [
    "len(balanced_df[balanced_df[\"Group\"] == \"AD\"]), len(balanced_df[balanced_df[\"Group\"] == \"CN\"]), len(balanced_df[balanced_df[\"Group\"] == \"MCI\"])"
   ]
  },
  {
   "cell_type": "code",
   "execution_count": 18,
   "metadata": {},
   "outputs": [
    {
     "data": {
      "text/plain": [
       "948"
      ]
     },
     "execution_count": 18,
     "metadata": {},
     "output_type": "execute_result"
    }
   ],
   "source": [
    "len(balanced_df)"
   ]
  },
  {
   "cell_type": "code",
   "execution_count": 22,
   "metadata": {},
   "outputs": [],
   "source": [
    "balanced_df[balanced_df['Group']==\"CN\"].to_csv(\"cn.csv\", index=False)"
   ]
  },
  {
   "cell_type": "code",
   "execution_count": 19,
   "metadata": {},
   "outputs": [
    {
     "data": {
      "text/html": [
       "<div>\n",
       "<style scoped>\n",
       "    .dataframe tbody tr th:only-of-type {\n",
       "        vertical-align: middle;\n",
       "    }\n",
       "\n",
       "    .dataframe tbody tr th {\n",
       "        vertical-align: top;\n",
       "    }\n",
       "\n",
       "    .dataframe thead th {\n",
       "        text-align: right;\n",
       "    }\n",
       "</style>\n",
       "<table border=\"1\" class=\"dataframe\">\n",
       "  <thead>\n",
       "    <tr style=\"text-align: right;\">\n",
       "      <th></th>\n",
       "      <th>Image Data ID</th>\n",
       "      <th>Subject</th>\n",
       "      <th>Group</th>\n",
       "      <th>Sex</th>\n",
       "      <th>Age</th>\n",
       "      <th>Visit</th>\n",
       "      <th>Modality</th>\n",
       "      <th>Description</th>\n",
       "      <th>Type</th>\n",
       "      <th>Acq Date</th>\n",
       "      <th>Format</th>\n",
       "      <th>Downloaded</th>\n",
       "    </tr>\n",
       "  </thead>\n",
       "  <tbody>\n",
       "    <tr>\n",
       "      <th>235</th>\n",
       "      <td>I118698</td>\n",
       "      <td>007_S_0414</td>\n",
       "      <td>MCI</td>\n",
       "      <td>F</td>\n",
       "      <td>80</td>\n",
       "      <td>sc</td>\n",
       "      <td>MRI</td>\n",
       "      <td>MPR; GradWarp; B1 Correction; N3; Scaled_2</td>\n",
       "      <td>Processed</td>\n",
       "      <td>5/22/2006</td>\n",
       "      <td>NiFTI</td>\n",
       "      <td>3/03/2022</td>\n",
       "    </tr>\n",
       "    <tr>\n",
       "      <th>403</th>\n",
       "      <td>I31084</td>\n",
       "      <td>023_S_0042</td>\n",
       "      <td>MCI</td>\n",
       "      <td>M</td>\n",
       "      <td>73</td>\n",
       "      <td>sc</td>\n",
       "      <td>MRI</td>\n",
       "      <td>MPR-R; GradWarp; B1 Correction; N3; Scaled</td>\n",
       "      <td>Processed</td>\n",
       "      <td>10/31/2005</td>\n",
       "      <td>NiFTI</td>\n",
       "      <td>3/03/2022</td>\n",
       "    </tr>\n",
       "    <tr>\n",
       "      <th>239</th>\n",
       "      <td>I35734</td>\n",
       "      <td>007_S_0041</td>\n",
       "      <td>MCI</td>\n",
       "      <td>F</td>\n",
       "      <td>71</td>\n",
       "      <td>sc</td>\n",
       "      <td>MRI</td>\n",
       "      <td>MPR; GradWarp; B1 Correction; N3; Scaled</td>\n",
       "      <td>Processed</td>\n",
       "      <td>10/21/2005</td>\n",
       "      <td>NiFTI</td>\n",
       "      <td>3/03/2022</td>\n",
       "    </tr>\n",
       "    <tr>\n",
       "      <th>204</th>\n",
       "      <td>I79627</td>\n",
       "      <td>041_S_1420</td>\n",
       "      <td>MCI</td>\n",
       "      <td>F</td>\n",
       "      <td>82</td>\n",
       "      <td>sc</td>\n",
       "      <td>MRI</td>\n",
       "      <td>MPR-R; GradWarp; B1 Correction; N3; Scaled</td>\n",
       "      <td>Processed</td>\n",
       "      <td>9/24/2007</td>\n",
       "      <td>NiFTI</td>\n",
       "      <td>3/03/2022</td>\n",
       "    </tr>\n",
       "    <tr>\n",
       "      <th>321</th>\n",
       "      <td>I65727</td>\n",
       "      <td>068_S_0442</td>\n",
       "      <td>MCI</td>\n",
       "      <td>M</td>\n",
       "      <td>75</td>\n",
       "      <td>sc</td>\n",
       "      <td>MRI</td>\n",
       "      <td>MPR-R; ; N3; Scaled</td>\n",
       "      <td>Processed</td>\n",
       "      <td>5/09/2006</td>\n",
       "      <td>NiFTI</td>\n",
       "      <td>3/03/2022</td>\n",
       "    </tr>\n",
       "  </tbody>\n",
       "</table>\n",
       "</div>"
      ],
      "text/plain": [
       "    Image Data ID     Subject Group Sex  Age Visit Modality  \\\n",
       "235       I118698  007_S_0414   MCI   F   80    sc      MRI   \n",
       "403        I31084  023_S_0042   MCI   M   73    sc      MRI   \n",
       "239        I35734  007_S_0041   MCI   F   71    sc      MRI   \n",
       "204        I79627  041_S_1420   MCI   F   82    sc      MRI   \n",
       "321        I65727  068_S_0442   MCI   M   75    sc      MRI   \n",
       "\n",
       "                                    Description       Type    Acq Date Format  \\\n",
       "235  MPR; GradWarp; B1 Correction; N3; Scaled_2  Processed   5/22/2006  NiFTI   \n",
       "403  MPR-R; GradWarp; B1 Correction; N3; Scaled  Processed  10/31/2005  NiFTI   \n",
       "239    MPR; GradWarp; B1 Correction; N3; Scaled  Processed  10/21/2005  NiFTI   \n",
       "204  MPR-R; GradWarp; B1 Correction; N3; Scaled  Processed   9/24/2007  NiFTI   \n",
       "321                         MPR-R; ; N3; Scaled  Processed   5/09/2006  NiFTI   \n",
       "\n",
       "    Downloaded  \n",
       "235  3/03/2022  \n",
       "403  3/03/2022  \n",
       "239  3/03/2022  \n",
       "204  3/03/2022  \n",
       "321  3/03/2022  "
      ]
     },
     "execution_count": 19,
     "metadata": {},
     "output_type": "execute_result"
    }
   ],
   "source": [
    "balanced_df.head()"
   ]
  },
  {
   "cell_type": "code",
   "execution_count": 17,
   "metadata": {},
   "outputs": [],
   "source": [
    "from tensorflow.keras.utils import Sequence\n",
    "from scipy.ndimage import rotate\n",
    "from skimage.transform import resize\n",
    "\n",
    "class Dataset(Sequence):\n",
    "    def __init__(self, dataframe, dataset_type='', batch_size=32, shuffle=True, rotation_range=50):\n",
    "        self.data = dataframe\n",
    "        self.dataset_type = dataset_type\n",
    "        self.batch_size = batch_size\n",
    "        self.shuffle = shuffle\n",
    "        self.rotation_range = rotation_range\n",
    "        self.le = LabelEncoder()\n",
    "        self.encoded_classes = self.le.fit_transform(self.data[\"Group\"].values)\n",
    "        self.on_epoch_end()\n",
    "        self.true_labels = []\n",
    "\n",
    "    def _load_image(self, img_id, label):\n",
    "        base = \"adni-1-5t-filtered-preprocessed-quickseg-dataset\"\n",
    "        img_id = img_id + \".nii\"\n",
    "        subject_dir = os.path.join(base, label, img_id, \"mri\")\n",
    "        \n",
    "        aseg_image = nibabel.load(os.path.join(subject_dir, \"aparc.DKTatlas+aseg.deep.mgz\"))\n",
    "        brain_image = nibabel.load(os.path.join(subject_dir, \"aparc.DKTatlas+aseg.deep.mgz\"))\n",
    "        \n",
    "        image = apply_mask(aseg_image, brain_image)\n",
    "        image = image.get_fdata()\n",
    "#         cropped_image = crop(image, margin=30)\n",
    "        image = resize(image, (128,128,128), anti_aliasing=True)\n",
    "        \n",
    "        if self.dataset_type == 'train':\n",
    "            rotation_angle = np.random.uniform(-self.rotation_range, self.rotation_range) #random angle\n",
    "            rotated_image = rotate(image, rotation_angle, reshape=False) #applying random rotation to the image\n",
    "            enhance = enhance_image(rotated_image) #applying clahe\n",
    "            sharp = sharpen_image(enhance) #sharpening\n",
    "\n",
    "            final_image = np.stack((sharp,) * 3, axis=3)\n",
    "            return final_image\n",
    "    \n",
    "        final_image = np.stack((image,) * 3, axis=3)\n",
    "#         final_image = torch.tensor(final_image, dtype=torch.float)\n",
    "        return final_image\n",
    "\n",
    "    def __len__(self):\n",
    "        return len(self.data) // self.batch_size\n",
    "\n",
    "    def __getitem__(self, idx):\n",
    "        indices = self.indices[idx*self.batch_size:(idx+1)*self.batch_size]\n",
    "        batch_data = [self.data.iloc[i] for i in indices]\n",
    "\n",
    "        images = []\n",
    "        labels = []\n",
    "        for data_row in batch_data:\n",
    "            img_id = data_row.iloc[0]\n",
    "            label = data_row.iloc[2]\n",
    "            img = self._load_image(img_id, label)\n",
    "            img = np.transpose(img, (2, 0, 1, 3))\n",
    "            one_hot_label = np.eye(len(self.le.classes_))[self.le.transform([label])[0]]\n",
    "            images.append(img)\n",
    "            labels.append(one_hot_label)\n",
    "            self.true_labels.append(one_hot_label)\n",
    "        return np.asarray(images), np.asarray(labels)\n",
    "\n",
    "    def on_epoch_end(self):\n",
    "        self.indices = np.arange(len(self.data))\n",
    "        if self.shuffle:\n",
    "            np.random.shuffle(self.indices)"
   ]
  },
  {
   "cell_type": "code",
   "execution_count": 35,
   "metadata": {},
   "outputs": [],
   "source": [
    "train_data, temp = train_test_split(balanced_df, test_size=0.3, random_state=42)\n",
    "val_data, test_data = train_test_split(temp, test_size=0.5, random_state=42)\n",
    "\n",
    "train_dataset = Dataset(train_data, dataset_type='train', batch_size=20)\n",
    "val_dataset = Dataset(val_data, batch_size=20)\n",
    "test_dataset = Dataset(test_data, batch_size=20)"
   ]
  },
  {
   "cell_type": "code",
   "execution_count": 36,
   "metadata": {},
   "outputs": [
    {
     "data": {
      "text/plain": [
       "(660, 140, 140)"
      ]
     },
     "execution_count": 36,
     "metadata": {},
     "output_type": "execute_result"
    }
   ],
   "source": [
    "len(train_dataset)*20, len(val_dataset)*20, len(test_dataset)*20"
   ]
  },
  {
   "cell_type": "code",
   "execution_count": 20,
   "metadata": {},
   "outputs": [],
   "source": [
    "for images, labels in train_dataset:\n",
    "    break"
   ]
  },
  {
   "cell_type": "code",
   "execution_count": 21,
   "metadata": {},
   "outputs": [
    {
     "name": "stdout",
     "output_type": "stream",
     "text": [
      "(128, 128, 128, 3)\n"
     ]
    },
    {
     "data": {
      "image/png": "[encoded data removed]",
      "text/plain": [
       "<Figure size 640x480 with 1 Axes>"
      ]
     },
     "metadata": {},
     "output_type": "display_data"
    }
   ],
   "source": [
    "print(images[0].shape)\n",
    "plt.imshow(images[0][49,:,:])\n",
    "plt.show()"
   ]
  },
  {
   "cell_type": "code",
   "execution_count": 22,
   "metadata": {},
   "outputs": [
    {
     "name": "stdout",
     "output_type": "stream",
     "text": [
      "(128, 128, 128, 3)\n"
     ]
    }
   ],
   "source": [
    "from tensorflow.keras.optimizers import Adam\n",
    "\n",
    "classes = 3\n",
    "image_shape = images[0].shape\n",
    "print(image_shape)\n",
    "model = Resnet3DBuilder.build_resnet_18(input_shape = image_shape, num_outputs=classes)\n",
    "\n",
    "model.compile(\n",
    "    optimizer=Adam(0.0001), \n",
    "    loss='categorical_crossentropy', \n",
    "    metrics=['accuracy', 'Recall', 'AUC', 'Precision']\n",
    ")"
   ]
  },
  {
   "cell_type": "code",
   "execution_count": 23,
   "metadata": {},
   "outputs": [
    {
     "name": "stdout",
     "output_type": "stream",
     "text": [
      "Model: \"model\"\n",
      "__________________________________________________________________________________________________\n",
      "Layer (type)                    Output Shape         Param #     Connected to                     \n",
      "==================================================================================================\n",
      "input_1 (InputLayer)            [(None, 128, 128, 12 0                                            \n",
      "__________________________________________________________________________________________________\n",
      "conv3d (Conv3D)                 (None, 64, 64, 64, 6 65920       input_1[0][0]                    \n",
      "__________________________________________________________________________________________________\n",
      "batch_normalization (BatchNorma (None, 64, 64, 64, 6 256         conv3d[0][0]                     \n",
      "__________________________________________________________________________________________________\n",
      "activation (Activation)         (None, 64, 64, 64, 6 0           batch_normalization[0][0]        \n",
      "__________________________________________________________________________________________________\n",
      "max_pooling3d (MaxPooling3D)    (None, 32, 32, 32, 6 0           activation[0][0]                 \n",
      "__________________________________________________________________________________________________\n",
      "conv3d_1 (Conv3D)               (None, 32, 32, 32, 6 110656      max_pooling3d[0][0]              \n",
      "__________________________________________________________________________________________________\n",
      "batch_normalization_1 (BatchNor (None, 32, 32, 32, 6 256         conv3d_1[0][0]                   \n",
      "__________________________________________________________________________________________________\n",
      "activation_1 (Activation)       (None, 32, 32, 32, 6 0           batch_normalization_1[0][0]      \n",
      "__________________________________________________________________________________________________\n",
      "conv3d_2 (Conv3D)               (None, 32, 32, 32, 6 110656      activation_1[0][0]               \n",
      "__________________________________________________________________________________________________\n",
      "add (Add)                       (None, 32, 32, 32, 6 0           max_pooling3d[0][0]              \n",
      "                                                                 conv3d_2[0][0]                   \n",
      "__________________________________________________________________________________________________\n",
      "batch_normalization_2 (BatchNor (None, 32, 32, 32, 6 256         add[0][0]                        \n",
      "__________________________________________________________________________________________________\n",
      "activation_2 (Activation)       (None, 32, 32, 32, 6 0           batch_normalization_2[0][0]      \n",
      "__________________________________________________________________________________________________\n",
      "conv3d_3 (Conv3D)               (None, 32, 32, 32, 6 110656      activation_2[0][0]               \n",
      "__________________________________________________________________________________________________\n",
      "batch_normalization_3 (BatchNor (None, 32, 32, 32, 6 256         conv3d_3[0][0]                   \n",
      "__________________________________________________________________________________________________\n",
      "activation_3 (Activation)       (None, 32, 32, 32, 6 0           batch_normalization_3[0][0]      \n",
      "__________________________________________________________________________________________________\n",
      "conv3d_4 (Conv3D)               (None, 32, 32, 32, 6 110656      activation_3[0][0]               \n",
      "__________________________________________________________________________________________________\n",
      "add_1 (Add)                     (None, 32, 32, 32, 6 0           add[0][0]                        \n",
      "                                                                 conv3d_4[0][0]                   \n",
      "__________________________________________________________________________________________________\n",
      "batch_normalization_4 (BatchNor (None, 32, 32, 32, 6 256         add_1[0][0]                      \n",
      "__________________________________________________________________________________________________\n",
      "activation_4 (Activation)       (None, 32, 32, 32, 6 0           batch_normalization_4[0][0]      \n",
      "__________________________________________________________________________________________________\n",
      "conv3d_5 (Conv3D)               (None, 16, 16, 16, 1 221312      activation_4[0][0]               \n",
      "__________________________________________________________________________________________________\n",
      "batch_normalization_5 (BatchNor (None, 16, 16, 16, 1 512         conv3d_5[0][0]                   \n",
      "__________________________________________________________________________________________________\n",
      "activation_5 (Activation)       (None, 16, 16, 16, 1 0           batch_normalization_5[0][0]      \n",
      "__________________________________________________________________________________________________\n",
      "conv3d_7 (Conv3D)               (None, 16, 16, 16, 1 8320        add_1[0][0]                      \n",
      "__________________________________________________________________________________________________\n",
      "conv3d_6 (Conv3D)               (None, 16, 16, 16, 1 442496      activation_5[0][0]               \n",
      "__________________________________________________________________________________________________\n",
      "add_2 (Add)                     (None, 16, 16, 16, 1 0           conv3d_7[0][0]                   \n",
      "                                                                 conv3d_6[0][0]                   \n",
      "__________________________________________________________________________________________________\n",
      "batch_normalization_6 (BatchNor (None, 16, 16, 16, 1 512         add_2[0][0]                      \n",
      "__________________________________________________________________________________________________\n",
      "activation_6 (Activation)       (None, 16, 16, 16, 1 0           batch_normalization_6[0][0]      \n",
      "__________________________________________________________________________________________________\n",
      "conv3d_8 (Conv3D)               (None, 16, 16, 16, 1 442496      activation_6[0][0]               \n",
      "__________________________________________________________________________________________________\n",
      "batch_normalization_7 (BatchNor (None, 16, 16, 16, 1 512         conv3d_8[0][0]                   \n",
      "__________________________________________________________________________________________________\n",
      "activation_7 (Activation)       (None, 16, 16, 16, 1 0           batch_normalization_7[0][0]      \n",
      "__________________________________________________________________________________________________\n",
      "conv3d_9 (Conv3D)               (None, 16, 16, 16, 1 442496      activation_7[0][0]               \n",
      "__________________________________________________________________________________________________\n",
      "add_3 (Add)                     (None, 16, 16, 16, 1 0           add_2[0][0]                      \n",
      "                                                                 conv3d_9[0][0]                   \n",
      "__________________________________________________________________________________________________\n",
      "batch_normalization_8 (BatchNor (None, 16, 16, 16, 1 512         add_3[0][0]                      \n",
      "__________________________________________________________________________________________________\n",
      "activation_8 (Activation)       (None, 16, 16, 16, 1 0           batch_normalization_8[0][0]      \n",
      "__________________________________________________________________________________________________\n",
      "conv3d_10 (Conv3D)              (None, 8, 8, 8, 256) 884992      activation_8[0][0]               \n",
      "__________________________________________________________________________________________________\n",
      "batch_normalization_9 (BatchNor (None, 8, 8, 8, 256) 1024        conv3d_10[0][0]                  \n",
      "__________________________________________________________________________________________________\n",
      "activation_9 (Activation)       (None, 8, 8, 8, 256) 0           batch_normalization_9[0][0]      \n",
      "__________________________________________________________________________________________________\n",
      "conv3d_12 (Conv3D)              (None, 8, 8, 8, 256) 33024       add_3[0][0]                      \n",
      "__________________________________________________________________________________________________\n",
      "conv3d_11 (Conv3D)              (None, 8, 8, 8, 256) 1769728     activation_9[0][0]               \n",
      "__________________________________________________________________________________________________\n",
      "add_4 (Add)                     (None, 8, 8, 8, 256) 0           conv3d_12[0][0]                  \n",
      "                                                                 conv3d_11[0][0]                  \n",
      "__________________________________________________________________________________________________\n",
      "batch_normalization_10 (BatchNo (None, 8, 8, 8, 256) 1024        add_4[0][0]                      \n",
      "__________________________________________________________________________________________________\n",
      "activation_10 (Activation)      (None, 8, 8, 8, 256) 0           batch_normalization_10[0][0]     \n",
      "__________________________________________________________________________________________________\n",
      "conv3d_13 (Conv3D)              (None, 8, 8, 8, 256) 1769728     activation_10[0][0]              \n",
      "__________________________________________________________________________________________________\n",
      "batch_normalization_11 (BatchNo (None, 8, 8, 8, 256) 1024        conv3d_13[0][0]                  \n",
      "__________________________________________________________________________________________________\n",
      "activation_11 (Activation)      (None, 8, 8, 8, 256) 0           batch_normalization_11[0][0]     \n",
      "__________________________________________________________________________________________________\n",
      "conv3d_14 (Conv3D)              (None, 8, 8, 8, 256) 1769728     activation_11[0][0]              \n",
      "__________________________________________________________________________________________________\n",
      "add_5 (Add)                     (None, 8, 8, 8, 256) 0           add_4[0][0]                      \n",
      "                                                                 conv3d_14[0][0]                  \n",
      "__________________________________________________________________________________________________\n",
      "batch_normalization_12 (BatchNo (None, 8, 8, 8, 256) 1024        add_5[0][0]                      \n",
      "__________________________________________________________________________________________________\n",
      "activation_12 (Activation)      (None, 8, 8, 8, 256) 0           batch_normalization_12[0][0]     \n",
      "__________________________________________________________________________________________________\n",
      "conv3d_15 (Conv3D)              (None, 4, 4, 4, 512) 3539456     activation_12[0][0]              \n",
      "__________________________________________________________________________________________________\n",
      "batch_normalization_13 (BatchNo (None, 4, 4, 4, 512) 2048        conv3d_15[0][0]                  \n",
      "__________________________________________________________________________________________________\n",
      "activation_13 (Activation)      (None, 4, 4, 4, 512) 0           batch_normalization_13[0][0]     \n",
      "__________________________________________________________________________________________________\n",
      "conv3d_17 (Conv3D)              (None, 4, 4, 4, 512) 131584      add_5[0][0]                      \n",
      "__________________________________________________________________________________________________\n",
      "conv3d_16 (Conv3D)              (None, 4, 4, 4, 512) 7078400     activation_13[0][0]              \n",
      "__________________________________________________________________________________________________\n",
      "add_6 (Add)                     (None, 4, 4, 4, 512) 0           conv3d_17[0][0]                  \n",
      "                                                                 conv3d_16[0][0]                  \n",
      "__________________________________________________________________________________________________\n",
      "batch_normalization_14 (BatchNo (None, 4, 4, 4, 512) 2048        add_6[0][0]                      \n",
      "__________________________________________________________________________________________________\n",
      "activation_14 (Activation)      (None, 4, 4, 4, 512) 0           batch_normalization_14[0][0]     \n",
      "__________________________________________________________________________________________________\n",
      "conv3d_18 (Conv3D)              (None, 4, 4, 4, 512) 7078400     activation_14[0][0]              \n",
      "__________________________________________________________________________________________________\n",
      "batch_normalization_15 (BatchNo (None, 4, 4, 4, 512) 2048        conv3d_18[0][0]                  \n",
      "__________________________________________________________________________________________________\n",
      "activation_15 (Activation)      (None, 4, 4, 4, 512) 0           batch_normalization_15[0][0]     \n",
      "__________________________________________________________________________________________________\n",
      "conv3d_19 (Conv3D)              (None, 4, 4, 4, 512) 7078400     activation_15[0][0]              \n",
      "__________________________________________________________________________________________________\n",
      "add_7 (Add)                     (None, 4, 4, 4, 512) 0           add_6[0][0]                      \n",
      "                                                                 conv3d_19[0][0]                  \n",
      "__________________________________________________________________________________________________\n",
      "batch_normalization_16 (BatchNo (None, 4, 4, 4, 512) 2048        add_7[0][0]                      \n",
      "__________________________________________________________________________________________________\n",
      "activation_16 (Activation)      (None, 4, 4, 4, 512) 0           batch_normalization_16[0][0]     \n",
      "__________________________________________________________________________________________________\n",
      "average_pooling3d (AveragePooli (None, 1, 1, 1, 512) 0           activation_16[0][0]              \n",
      "__________________________________________________________________________________________________\n",
      "flatten (Flatten)               (None, 512)          0           average_pooling3d[0][0]          \n",
      "__________________________________________________________________________________________________\n",
      "dense (Dense)                   (None, 3)            1539        flatten[0][0]                    \n",
      "==================================================================================================\n",
      "Total params: 33,216,259\n",
      "Trainable params: 33,208,451\n",
      "Non-trainable params: 7,808\n",
      "__________________________________________________________________________________________________\n"
     ]
    }
   ],
   "source": [
    "model.summary()"
   ]
  },
  {
   "cell_type": "code",
   "execution_count": 24,
   "metadata": {
    "scrolled": true
   },
   "outputs": [
    {
     "name": "stderr",
     "output_type": "stream",
     "text": [
      "2024-03-27 03:51:39.187268: I tensorflow/compiler/mlir/mlir_graph_optimization_pass.cc:116] None of the MLIR optimization passes are enabled (registered 2)\n",
      "2024-03-27 03:51:39.204815: I tensorflow/core/platform/profile_utils/cpu_utils.cc:112] CPU Frequency: 3600000000 Hz\n"
     ]
    },
    {
     "name": "stdout",
     "output_type": "stream",
     "text": [
      "Epoch 1/10\n"
     ]
    },
    {
     "name": "stderr",
     "output_type": "stream",
     "text": [
      "2024-03-27 03:51:42.431910: I tensorflow/stream_executor/platform/default/dso_loader.cc:49] Successfully opened dynamic library libcublas.so.10\n",
      "2024-03-27 03:52:10.081244: I tensorflow/stream_executor/platform/default/dso_loader.cc:49] Successfully opened dynamic library libcudnn.so.7\n"
     ]
    },
    {
     "name": "stdout",
     "output_type": "stream",
     "text": [
      "33/33 [==============================] - 598s 18s/step - loss: 2.0856 - accuracy: 0.3308 - recall: 0.0541 - auc: 0.5021 - precision: 0.3781 - val_loss: 121.4469 - val_accuracy: 0.3571 - val_recall: 0.3571 - val_auc: 0.5179 - val_precision: 0.3571\n",
      "Epoch 2/10\n",
      "33/33 [==============================] - 574s 17s/step - loss: 2.0320 - accuracy: 0.3938 - recall: 0.0199 - auc: 0.5712 - precision: 0.5551 - val_loss: 23.1972 - val_accuracy: 0.3643 - val_recall: 0.3643 - val_auc: 0.5254 - val_precision: 0.3643\n",
      "Epoch 3/10\n",
      "33/33 [==============================] - 585s 17s/step - loss: 2.0042 - accuracy: 0.4278 - recall: 0.0144 - auc: 0.5970 - precision: 0.6556 - val_loss: 16.9415 - val_accuracy: 0.4286 - val_recall: 0.4286 - val_auc: 0.5616 - val_precision: 0.4286\n",
      "Epoch 4/10\n",
      "33/33 [==============================] - 586s 17s/step - loss: 1.9881 - accuracy: 0.4302 - recall: 0.0775 - auc: 0.5929 - precision: 0.4511 - val_loss: 28.7984 - val_accuracy: 0.3571 - val_recall: 0.3571 - val_auc: 0.5179 - val_precision: 0.3571\n",
      "Epoch 5/10\n",
      "33/33 [==============================] - 588s 17s/step - loss: 1.9607 - accuracy: 0.4266 - recall: 0.0991 - auc: 0.6033 - precision: 0.5306 - val_loss: 21.5586 - val_accuracy: 0.3429 - val_recall: 0.3429 - val_auc: 0.5071 - val_precision: 0.3429\n",
      "Epoch 6/10\n",
      "33/33 [==============================] - 587s 17s/step - loss: 1.9074 - accuracy: 0.4868 - recall: 0.1136 - auc: 0.6582 - precision: 0.6887 - val_loss: 18.6756 - val_accuracy: 0.4429 - val_recall: 0.4429 - val_auc: 0.5754 - val_precision: 0.4429\n",
      "Epoch 7/10\n",
      "33/33 [==============================] - 586s 17s/step - loss: 1.8289 - accuracy: 0.5250 - recall: 0.3109 - auc: 0.7221 - precision: 0.6235 - val_loss: 186.3071 - val_accuracy: 0.3500 - val_recall: 0.3500 - val_auc: 0.5125 - val_precision: 0.3500\n",
      "Epoch 8/10\n",
      "33/33 [==============================] - 587s 17s/step - loss: 1.8416 - accuracy: 0.5198 - recall: 0.2624 - auc: 0.6943 - precision: 0.6428 - val_loss: 90.2636 - val_accuracy: 0.3500 - val_recall: 0.3500 - val_auc: 0.5125 - val_precision: 0.3500\n",
      "Epoch 9/10\n",
      "33/33 [==============================] - 589s 17s/step - loss: 1.7699 - accuracy: 0.5481 - recall: 0.3535 - auc: 0.7385 - precision: 0.6223 - val_loss: 185.3417 - val_accuracy: 0.3500 - val_recall: 0.3500 - val_auc: 0.5125 - val_precision: 0.3500\n",
      "Epoch 10/10\n",
      "33/33 [==============================] - 586s 17s/step - loss: 1.7753 - accuracy: 0.5583 - recall: 0.3113 - auc: 0.7402 - precision: 0.6589 - val_loss: 227.3651 - val_accuracy: 0.3429 - val_recall: 0.3429 - val_auc: 0.5071 - val_precision: 0.3429\n"
     ]
    }
   ],
   "source": [
    "num_epochs = 10\n",
    "history = model.fit(train_dataset, validation_data = val_dataset, epochs=num_epochs, workers=2)"
   ]
  },
  {
   "cell_type": "code",
   "execution_count": 25,
   "metadata": {},
   "outputs": [
    {
     "data": {
      "image/png": "[encoded data removed]",
      "text/plain": [
       "<Figure size 640x480 with 1 Axes>"
      ]
     },
     "metadata": {},
     "output_type": "display_data"
    }
   ],
   "source": [
    "plt.plot(history.history['accuracy'])\n",
    "plt.title('resnet18 model accuracy')\n",
    "plt.ylabel('accuracy')\n",
    "plt.xlabel('epoch')\n",
    "plt.show()"
   ]
  },
  {
   "cell_type": "code",
   "execution_count": 26,
   "metadata": {},
   "outputs": [
    {
     "data": {
      "image/png": "[encoded data removed]",
      "text/plain": [
       "<Figure size 640x480 with 1 Axes>"
      ]
     },
     "metadata": {},
     "output_type": "display_data"
    }
   ],
   "source": [
    "plt.plot(history.history['loss'])\n",
    "plt.title('resnet18 model loss')\n",
    "plt.ylabel('loss')\n",
    "plt.xlabel('epoch')\n",
    "plt.show()"
   ]
  },
  {
   "cell_type": "code",
   "execution_count": 28,
   "metadata": {},
   "outputs": [],
   "source": [
    "model.save('resnet18_ROI.h5')"
   ]
  },
  {
   "cell_type": "code",
   "execution_count": 52,
   "metadata": {},
   "outputs": [
    {
     "name": "stdout",
     "output_type": "stream",
     "text": [
      "7/7 [==============================] - 131s 19s/step - loss: 264.1930 - accuracy: 0.2714 - recall: 0.2714 - auc: 0.4536 - precision: 0.2714\n"
     ]
    }
   ],
   "source": [
    "res = model.evaluate(test_dataset)"
   ]
  },
  {
   "cell_type": "code",
   "execution_count": 37,
   "metadata": {},
   "outputs": [],
   "source": [
    "for dt in test_dataset:\n",
    "    _, _ = dt"
   ]
  },
  {
   "cell_type": "code",
   "execution_count": 29,
   "metadata": {},
   "outputs": [],
   "source": [
    "pred = model.predict(test_dataset)"
   ]
  },
  {
   "cell_type": "code",
   "execution_count": 38,
   "metadata": {},
   "outputs": [],
   "source": [
    "true_labels = test_dataset.true_labels"
   ]
  },
  {
   "cell_type": "code",
   "execution_count": 40,
   "metadata": {},
   "outputs": [
    {
     "data": {
      "text/plain": [
       "(140, 140)"
      ]
     },
     "execution_count": 40,
     "metadata": {},
     "output_type": "execute_result"
    }
   ],
   "source": [
    "len(pred), len(true_labels)"
   ]
  },
  {
   "cell_type": "code",
   "execution_count": 44,
   "metadata": {},
   "outputs": [],
   "source": [
    "pred = np.argmax(pred, axis=1)"
   ]
  },
  {
   "cell_type": "code",
   "execution_count": 46,
   "metadata": {},
   "outputs": [],
   "source": [
    "true_labels = np.argmax(true_labels, axis = 1)"
   ]
  },
  {
   "cell_type": "code",
   "execution_count": 50,
   "metadata": {},
   "outputs": [
    {
     "data": {
      "image/png": "[encoded data removed]",
      "text/plain": [
       "<Figure size 800x600 with 1 Axes>"
      ]
     },
     "metadata": {},
     "output_type": "display_data"
    }
   ],
   "source": [
    "import seaborn as sb\n",
    "from sklearn.metrics import confusion_matrix\n",
    "\n",
    "c_matrix = confusion_matrix(true_labels, pred)\n",
    "\n",
    "plt.figure(figsize=(8,6))\n",
    "sb.heatmap(\n",
    "    c_matrix,\n",
    "    annot = True,\n",
    "    cmap='Blues',\n",
    "    fmt='g',\n",
    "    cbar= False,\n",
    ")\n",
    "plt.xlabel('Predicted')\n",
    "plt.ylabel('Actual')\n",
    "plt.title('Confusion Matrix')\n",
    "plt.show()"
   ]
  },
  {
   "cell_type": "code",
   "execution_count": null,
   "metadata": {},
   "outputs": [],
   "source": []
  },
  {
   "cell_type": "code",
   "execution_count": null,
   "metadata": {},
   "outputs": [],
   "source": []
  }
 ],
 "metadata": {
  "kernelspec": {
   "display_name": "tf_conda",
   "language": "python",
   "name": "tf_conda"
  },
  "language_info": {
   "codemirror_mode": {
    "name": "ipython",
    "version": 3
   },
   "file_extension": ".py",
   "mimetype": "text/x-python",
   "name": "python",
   "nbconvert_exporter": "python",
   "pygments_lexer": "ipython3",
   "version": "3.7.16"
  }
 },
 "nbformat": 4,
 "nbformat_minor": 2
}
