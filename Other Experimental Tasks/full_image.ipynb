{
 "cells": [
  {
   "cell_type": "code",
   "execution_count": 1,
   "metadata": {
    "execution": {
     "iopub.execute_input": "2024-04-07T18:09:33.384097Z",
     "iopub.status.busy": "2024-04-07T18:09:33.383716Z",
     "iopub.status.idle": "2024-04-07T18:09:53.765928Z",
     "shell.execute_reply": "2024-04-07T18:09:53.765113Z",
     "shell.execute_reply.started": "2024-04-07T18:09:33.384067Z"
    }
   },
   "outputs": [
    {
     "name": "stderr",
     "output_type": "stream",
     "text": [
      "/home/uiu/miniconda3/envs/tf_conda/lib/python3.7/site-packages/tqdm/auto.py:21: TqdmWarning: IProgress not found. Please update jupyter and ipywidgets. See https://ipywidgets.readthedocs.io/en/stable/user_install.html\n",
      "  from .autonotebook import tqdm as notebook_tqdm\n",
      "2024-04-21 22:42:46.682673: I tensorflow/stream_executor/platform/default/dso_loader.cc:49] Successfully opened dynamic library libcudart.so.10.1\n"
     ]
    }
   ],
   "source": [
    "import os\n",
    "import pandas as pd\n",
    "import numpy as np\n",
    "import torch\n",
    "from sklearn.preprocessing import LabelEncoder\n",
    "from tensorflow.keras.utils import to_categorical\n",
    "import nibabel\n",
    "import matplotlib.pyplot as plt\n",
    "from sklearn.metrics import accuracy_score\n",
    "from sklearn.model_selection import train_test_split\n",
    "import tensorflow as tf\n",
    "import cv2\n",
    "from skimage.filters import unsharp_mask\n",
    "from sklearn.utils import shuffle\n",
    "from sklearn.utils.class_weight import compute_class_weight\n",
    "from skimage.transform import resize"
   ]
  },
  {
   "cell_type": "code",
   "execution_count": 3,
   "metadata": {
    "execution": {
     "iopub.execute_input": "2024-04-07T18:10:02.103840Z",
     "iopub.status.busy": "2024-04-07T18:10:02.103199Z",
     "iopub.status.idle": "2024-04-07T18:10:02.455573Z",
     "shell.execute_reply": "2024-04-07T18:10:02.454544Z",
     "shell.execute_reply.started": "2024-04-07T18:10:02.103807Z"
    }
   },
   "outputs": [
    {
     "name": "stdout",
     "output_type": "stream",
     "text": [
      "1 Physical GPUs, 1 Logical GPUs\n"
     ]
    }
   ],
   "source": [
    "gpus = tf.config.list_physical_devices('GPU')\n",
    "if gpus:\n",
    "    for gpu in gpus:\n",
    "        tf.config.experimental.set_memory_growth(gpu, True)\n",
    "    logical_gpus = tf.config.list_logical_devices('GPU')\n",
    "    print(len(gpus), \"Physical GPUs,\", len(logical_gpus), \"Logical GPUs\")"
   ]
  },
  {
   "cell_type": "markdown",
   "metadata": {},
   "source": [
    "# Resnet18"
   ]
  },
  {
   "cell_type": "code",
   "execution_count": 4,
   "metadata": {
    "execution": {
     "iopub.execute_input": "2024-04-07T18:10:06.554654Z",
     "iopub.status.busy": "2024-04-07T18:10:06.554307Z",
     "iopub.status.idle": "2024-04-07T18:10:06.604297Z",
     "shell.execute_reply": "2024-04-07T18:10:06.603245Z",
     "shell.execute_reply.started": "2024-04-07T18:10:06.554628Z"
    }
   },
   "outputs": [],
   "source": [
    "import tensorflow as tf\n",
    "from tensorflow.keras.layers import Input, Activation, Dense, Flatten, Conv3D, Add, GlobalAveragePooling3D, BatchNormalization\n",
    "from tensorflow.keras.models import Model\n",
    "from tensorflow.keras.regularizers import l2\n",
    "\n",
    "# Channel Attention Module for 3D\n",
    "class ChannelAttention3D(tf.keras.layers.Layer):\n",
    "    def __init__(self, reduction_ratio=16, **kwargs):\n",
    "        super(ChannelAttention3D, self).__init__(**kwargs)\n",
    "        self.reduction_ratio = reduction_ratio\n",
    "\n",
    "    def build(self, input_shape):\n",
    "        self.avg_pool = tf.keras.layers.GlobalAveragePooling3D()\n",
    "        self.max_pool = tf.keras.layers.GlobalMaxPooling3D()\n",
    "        self.dense1 = tf.keras.layers.Dense(input_shape[-1] // self.reduction_ratio, activation='relu', use_bias=False)\n",
    "        self.dense2 = tf.keras.layers.Dense(input_shape[-1], activation='sigmoid', use_bias=False)\n",
    "\n",
    "    def call(self, inputs):\n",
    "        # Reduce the spatial dimensions to a single number\n",
    "        avg_pooled = self.avg_pool(inputs)\n",
    "        max_pooled = self.max_pool(inputs)\n",
    "\n",
    "        # Pass through the shared dense layers\n",
    "        avg_out = self.dense1(avg_pooled)\n",
    "        avg_out = self.dense2(avg_out)\n",
    "        max_out = self.dense1(max_pooled)\n",
    "        max_out = self.dense2(max_out)\n",
    "\n",
    "        # Re-add the spatial dimensions that were reduced by Global Pooling\n",
    "        out = avg_out + max_out\n",
    "        scale = tf.reshape(out, [-1, 1, 1, 1, inputs.shape[-1]])  # Reshape to broadcast\n",
    "        return inputs * scale\n",
    "\n",
    "\n",
    "# Spatial Attention Module for 3D\n",
    "class SpatialAttention3D(tf.keras.layers.Layer):\n",
    "    def __init__(self, kernel_size=7, **kwargs):\n",
    "        super(SpatialAttention3D, self).__init__(**kwargs)\n",
    "        self.conv3d = tf.keras.layers.Conv3D(1, kernel_size, padding='same', activation='sigmoid', use_bias=False)\n",
    "\n",
    "    def call(self, inputs):\n",
    "        avg_out = tf.reduce_mean(inputs, axis=-1, keepdims=True)\n",
    "        max_out = tf.reduce_max(inputs, axis=-1, keepdims=True)\n",
    "        concat = tf.concat([avg_out, max_out], axis=-1)\n",
    "        out = self.conv3d(concat)\n",
    "        return inputs * out\n",
    "def _bn_relu(input):\n",
    "    norm = BatchNormalization(axis=-1)(input)\n",
    "    return Activation(\"relu\")(norm)\n",
    "\n",
    "def _conv_bn_relu3D(filters, kernel_size, strides=(1, 1, 1), padding=\"same\", kernel_initializer=\"he_normal\", kernel_regularizer=l2(1e-4)):\n",
    "    def f(input):\n",
    "        conv = Conv3D(filters=filters, kernel_size=kernel_size, strides=strides, padding=padding, kernel_initializer=kernel_initializer, kernel_regularizer=kernel_regularizer)(input)\n",
    "        return _bn_relu(conv)\n",
    "    return f\n",
    "\n",
    "def basic_block(filters, kernel_regularizer=l2(1e-4), downsample=False):\n",
    "    def f(input):\n",
    "        strides = (2, 2, 2) if downsample else (1, 1, 1)\n",
    "        conv1 = _conv_bn_relu3D(filters, (3, 3, 3), strides=strides)(input)\n",
    "        attention_layer1 = ChannelAttention3D()(conv1)\n",
    "        attention_layer1 = SpatialAttention3D()(attention_layer1)\n",
    "        conv2 = _conv_bn_relu3D(filters, (3, 3, 3))(attention_layer1)\n",
    "\n",
    "        shortcut = input\n",
    "        if downsample or input.shape[-1] != filters:\n",
    "            shortcut = Conv3D(filters, (1, 1, 1), strides=strides, padding=\"same\", kernel_initializer=\"he_normal\", kernel_regularizer=kernel_regularizer)(input)\n",
    "\n",
    "        return Add()([conv2, shortcut])\n",
    "    return f\n",
    "\n",
    "def _residual_block(block_function, filters, repetitions, is_first_layer=False):\n",
    "    def f(input):\n",
    "        for i in range(repetitions):\n",
    "            downsample = (i == 0 and not is_first_layer)\n",
    "            input = block_function(filters=filters, kernel_regularizer=l2(1e-4), downsample=downsample)(input)\n",
    "        return input\n",
    "    return f\n",
    "\n",
    "def build_resnet_18(input_shape, num_outputs):\n",
    "    input = Input(shape=input_shape)\n",
    "    conv1 = _conv_bn_relu3D(filters=64, kernel_size=(7, 7, 7), strides=(2, 2, 2))(input)\n",
    "\n",
    "    block1 = _residual_block(basic_block, 64, 2, is_first_layer=True)(conv1)\n",
    "    block2 = _residual_block(basic_block, 128, 2)(block1)\n",
    "    block3 = _residual_block(basic_block, 256, 2)(block2)\n",
    "    block4 = _residual_block(basic_block, 512, 2)(block3)\n",
    "\n",
    "    gap = GlobalAveragePooling3D()(block4)\n",
    "    dense = Dense(units=num_outputs, activation=\"softmax\")(gap)\n",
    "\n",
    "    model = Model(inputs=input, outputs=dense)\n",
    "    return model\n",
    "\n",
    "# Example to create a model\n",
    "# model = build_resnet_18(input_shape=(64, 64, 64, 1), num_outputs=2)\n",
    "# model.summary()\n"
   ]
  },
  {
   "cell_type": "code",
   "execution_count": 5,
   "metadata": {
    "execution": {
     "iopub.execute_input": "2024-04-07T18:10:09.366188Z",
     "iopub.status.busy": "2024-04-07T18:10:09.365510Z",
     "iopub.status.idle": "2024-04-07T18:10:09.375667Z",
     "shell.execute_reply": "2024-04-07T18:10:09.374722Z",
     "shell.execute_reply.started": "2024-04-07T18:10:09.366154Z"
    }
   },
   "outputs": [],
   "source": [
    "def apply_mask(aseg_image, brain_image, labels = [17, 53, 2, 7, 41, 46]):\n",
    "    brain_data = aseg_image.get_fdata()\n",
    "    aseg_data = aseg_image.get_fdata()\n",
    "    origin_data = brain_image.get_fdata()\n",
    "    \n",
    "    brain_mask = np.zeros_like(aseg_data)\n",
    "    for label in labels:\n",
    "        brain_mask += np.where((aseg_data == label), 1, 0)\n",
    "\n",
    "#     segmented_brain_image = brain_data * brain_mask\n",
    "#     segmented_brain_image = nibabel.Nifti1Image(segmented_brain_image, affine=None)\n",
    "    new_image = origin_data * brain_mask\n",
    "    \n",
    "    return new_image\n",
    "\n",
    "def enhance_slice(slice_data):\n",
    "    clahe = cv2.createCLAHE(clipLimit=2.0, tileGridSize=(8, 8))\n",
    "    enhanced_slice = clahe.apply(slice_data.astype(np.uint8))\n",
    "\n",
    "    return enhanced_slice\n",
    "\n",
    "def enhance_image(img_data):\n",
    "    enhanced_slices = []\n",
    "    \n",
    "    for slice_idx in range(img_data.shape[2]):\n",
    "        slice_data = img_data[:, :, slice_idx]\n",
    "        enhanced_slice = enhance_slice(slice_data)\n",
    "        enhanced_slices.append(enhanced_slice)\n",
    "    enhanced_volume = np.dstack(enhanced_slices)\n",
    "\n",
    "    return enhanced_volume\n",
    "\n",
    "def sharpen_image(image, strength=1.0):\n",
    "    sharpened_image = unsharp_mask(image, radius=1, amount=strength)\n",
    "    return sharpened_image"
   ]
  },
  {
   "cell_type": "code",
   "execution_count": 19,
   "metadata": {
    "execution": {
     "iopub.execute_input": "2024-04-07T18:10:11.057267Z",
     "iopub.status.busy": "2024-04-07T18:10:11.056645Z",
     "iopub.status.idle": "2024-04-07T18:10:11.067496Z",
     "shell.execute_reply": "2024-04-07T18:10:11.066522Z",
     "shell.execute_reply.started": "2024-04-07T18:10:11.057236Z"
    }
   },
   "outputs": [],
   "source": [
    "from scipy.ndimage import rotate\n",
    "\n",
    "def augment(image, rotation_range):\n",
    "    rotation_angle = np.random.uniform(-rotation_range, rotation_range)\n",
    "    rotated_image = rotate(image, rotation_angle, reshape=False)\n",
    "    \n",
    "    return rotated_image\n",
    "\n",
    "def image_load_nonRoi(image_path, target_shape, type_dt=''):\n",
    "    asg_img = nibabel.load(image_path).get_fdata()\n",
    "#     image = nibabel.load(image_path).get_fdata()\n",
    "    \n",
    "    origin_path = \"/\".join(image_path.split('/')[:-1]) + \"/orig.mgz\"\n",
    "    origin_image = nibabel.load(origin_path).get_fdata()\n",
    "    mask = np.where(asg_img != 0, 1, 0)\n",
    "    \n",
    "    image = origin_image * mask\n",
    "    image = enhance_image(image)\n",
    "    image = sharpen_image(image)\n",
    "    image = resize(image, target_shape, anti_aliasing=True)\n",
    "    \n",
    "    if type_dt=='train':\n",
    "        image = augment(image, 180)\n",
    "        \n",
    "    return image\n",
    "    \n",
    "def data_generator(paths, labels, batch_size, target_shape, type_dt=''):\n",
    "    while True:\n",
    "        for i in range(0, len(paths), batch_size):\n",
    "            batch_paths = paths[i:i+batch_size]\n",
    "            batch_labels = labels[i:i+batch_size]\n",
    "            batch_images = []\n",
    "            \n",
    "            batch_images = [image_load_nonRoi(image, target_shape, type_dt) for image in batch_paths]\n",
    "\n",
    "            batch_images = np.stack([batch_images] * 1, axis=-1)\n",
    "\n",
    "            batch_labels = to_categorical(batch_labels, num_classes=2)\n",
    "            yield np.array(batch_images), batch_labels"
   ]
  },
  {
   "cell_type": "code",
   "execution_count": 20,
   "metadata": {
    "execution": {
     "iopub.execute_input": "2024-04-07T18:10:53.078232Z",
     "iopub.status.busy": "2024-04-07T18:10:53.077521Z",
     "iopub.status.idle": "2024-04-07T18:10:57.415181Z",
     "shell.execute_reply": "2024-04-07T18:10:57.414372Z",
     "shell.execute_reply.started": "2024-04-07T18:10:53.078191Z"
    }
   },
   "outputs": [],
   "source": [
    "# original shape (257, 257, 257)\n",
    "base_dir = 'adni-1-5t-filtered-preprocessed-quickseg-dataset'\n",
    "ad = os.path.join(base_dir, 'AD')\n",
    "mci = os.path.join(base_dir, 'MCI')\n",
    "cn = os.path.join(base_dir, 'CN')\n",
    "\n",
    "\n",
    "ad_images= []\n",
    "mci_images = []\n",
    "cn_images = []\n",
    "\n",
    "for subject_dir in os.listdir(ad):\n",
    "    mri_path = os.path.join(ad, subject_dir, 'mri', 'aparc.DKTatlas+aseg.deep.mgz')\n",
    "    if not (len(os.listdir(os.path.join(ad, subject_dir, 'mri'))) < 6):\n",
    "        ad_images.append(mri_path)\n",
    "        \n",
    "for subject_dir in os.listdir(mci):\n",
    "    mri_path = os.path.join(mci, subject_dir, 'mri', 'aparc.DKTatlas+aseg.deep.mgz')\n",
    "    \n",
    "    if not (len(os.listdir(os.path.join(mci, subject_dir, 'mri'))) < 6):\n",
    "        mci_images.append(mri_path)\n",
    "        \n",
    "for subject_dir in os.listdir(cn):\n",
    "    mri_path = os.path.join(cn, subject_dir, 'mri', 'aparc.DKTatlas+aseg.deep.mgz')\n",
    "    if not (len(os.listdir(os.path.join(cn, subject_dir, 'mri'))) < 6):\n",
    "        cn_images.append(mri_path)"
   ]
  },
  {
   "cell_type": "code",
   "execution_count": 21,
   "metadata": {
    "execution": {
     "iopub.execute_input": "2024-04-07T18:11:06.957624Z",
     "iopub.status.busy": "2024-04-07T18:11:06.957278Z",
     "iopub.status.idle": "2024-04-07T18:11:06.966512Z",
     "shell.execute_reply": "2024-04-07T18:11:06.965566Z",
     "shell.execute_reply.started": "2024-04-07T18:11:06.957597Z"
    }
   },
   "outputs": [],
   "source": [
    "# image_path = ad_images + mci_images + cn_images\n",
    "# labels = [0] * len(ad_images) + [1] * len(mci_images) + [2] * len(cn_images)\n",
    "\n",
    "# image_path = ad_images + mci_images\n",
    "# labels = [0] * len(ad_images) + [1] * len(mci_images)\n",
    "\n",
    "image_path = mci_images + cn_images + cn_images[:len(mci_images)-len(cn_images)]\n",
    "labels = [0] * len(mci_images) + [1] * len(cn_images) + [1] * len(cn_images[:len(mci_images)-len(cn_images)])\n",
    "\n",
    "\n",
    "image_path, labels = shuffle(image_path, labels, random_state=42)"
   ]
  },
  {
   "cell_type": "code",
   "execution_count": 22,
   "metadata": {
    "execution": {
     "iopub.execute_input": "2024-04-07T18:11:08.553771Z",
     "iopub.status.busy": "2024-04-07T18:11:08.553411Z",
     "iopub.status.idle": "2024-04-07T18:11:08.567967Z",
     "shell.execute_reply": "2024-04-07T18:11:08.567091Z",
     "shell.execute_reply.started": "2024-04-07T18:11:08.553742Z"
    }
   },
   "outputs": [],
   "source": [
    "train_paths, test_paths, train_labels, test_labels = train_test_split(image_path, labels, test_size = 0.3, random_state=42)\n",
    "\n",
    "class_weights = compute_class_weight('balanced', classes=np.unique(train_labels), y=train_labels)\n",
    "\n",
    "train_paths = np.array(train_paths)\n",
    "train_labels = np.array(train_labels)\n",
    "test_paths = np.array(test_paths)\n",
    "test_labels = np.array(test_labels)"
   ]
  },
  {
   "cell_type": "code",
   "execution_count": 23,
   "metadata": {
    "execution": {
     "iopub.execute_input": "2024-04-07T18:11:12.913183Z",
     "iopub.status.busy": "2024-04-07T18:11:12.912839Z",
     "iopub.status.idle": "2024-04-07T18:11:12.917945Z",
     "shell.execute_reply": "2024-04-07T18:11:12.917029Z",
     "shell.execute_reply.started": "2024-04-07T18:11:12.913151Z"
    }
   },
   "outputs": [],
   "source": [
    "target_shape = (100, 100, 100)\n",
    "batch_size = 10\n",
    "\n",
    "train_dataset = data_generator(train_paths, train_labels, batch_size, target_shape, type_dt='train')\n",
    "test_dataset = data_generator(test_paths, test_labels, batch_size, target_shape)"
   ]
  },
  {
   "cell_type": "markdown",
   "metadata": {},
   "source": [
    "# Model training"
   ]
  },
  {
   "cell_type": "code",
   "execution_count": 24,
   "metadata": {
    "execution": {
     "iopub.execute_input": "2024-04-07T18:11:16.609562Z",
     "iopub.status.busy": "2024-04-07T18:11:16.608850Z",
     "iopub.status.idle": "2024-04-07T18:11:17.126353Z",
     "shell.execute_reply": "2024-04-07T18:11:17.125443Z",
     "shell.execute_reply.started": "2024-04-07T18:11:16.609533Z"
    },
    "scrolled": true
   },
   "outputs": [
    {
     "name": "stdout",
     "output_type": "stream",
     "text": [
      "Model: \"model_3\"\n",
      "__________________________________________________________________________________________________\n",
      "Layer (type)                    Output Shape         Param #     Connected to                     \n",
      "==================================================================================================\n",
      "input_4 (InputLayer)            [(None, 100, 100, 10 0                                            \n",
      "__________________________________________________________________________________________________\n",
      "conv3d_84 (Conv3D)              (None, 50, 50, 50, 6 22016       input_4[0][0]                    \n",
      "__________________________________________________________________________________________________\n",
      "batch_normalization_51 (BatchNo (None, 50, 50, 50, 6 256         conv3d_84[0][0]                  \n",
      "__________________________________________________________________________________________________\n",
      "activation_51 (Activation)      (None, 50, 50, 50, 6 0           batch_normalization_51[0][0]     \n",
      "__________________________________________________________________________________________________\n",
      "conv3d_85 (Conv3D)              (None, 50, 50, 50, 6 110656      activation_51[0][0]              \n",
      "__________________________________________________________________________________________________\n",
      "batch_normalization_52 (BatchNo (None, 50, 50, 50, 6 256         conv3d_85[0][0]                  \n",
      "__________________________________________________________________________________________________\n",
      "activation_52 (Activation)      (None, 50, 50, 50, 6 0           batch_normalization_52[0][0]     \n",
      "__________________________________________________________________________________________________\n",
      "channel_attention3d_24 (Channel (None, 50, 50, 50, 6 512         activation_52[0][0]              \n",
      "__________________________________________________________________________________________________\n",
      "spatial_attention3d_24 (Spatial (None, 50, 50, 50, 6 686         channel_attention3d_24[0][0]     \n",
      "__________________________________________________________________________________________________\n",
      "conv3d_87 (Conv3D)              (None, 50, 50, 50, 6 110656      spatial_attention3d_24[0][0]     \n",
      "__________________________________________________________________________________________________\n",
      "batch_normalization_53 (BatchNo (None, 50, 50, 50, 6 256         conv3d_87[0][0]                  \n",
      "__________________________________________________________________________________________________\n",
      "activation_53 (Activation)      (None, 50, 50, 50, 6 0           batch_normalization_53[0][0]     \n",
      "__________________________________________________________________________________________________\n",
      "add_24 (Add)                    (None, 50, 50, 50, 6 0           activation_53[0][0]              \n",
      "                                                                 activation_51[0][0]              \n",
      "__________________________________________________________________________________________________\n",
      "conv3d_88 (Conv3D)              (None, 50, 50, 50, 6 110656      add_24[0][0]                     \n",
      "__________________________________________________________________________________________________\n",
      "batch_normalization_54 (BatchNo (None, 50, 50, 50, 6 256         conv3d_88[0][0]                  \n",
      "__________________________________________________________________________________________________\n",
      "activation_54 (Activation)      (None, 50, 50, 50, 6 0           batch_normalization_54[0][0]     \n",
      "__________________________________________________________________________________________________\n",
      "channel_attention3d_25 (Channel (None, 50, 50, 50, 6 512         activation_54[0][0]              \n",
      "__________________________________________________________________________________________________\n",
      "spatial_attention3d_25 (Spatial (None, 50, 50, 50, 6 686         channel_attention3d_25[0][0]     \n",
      "__________________________________________________________________________________________________\n",
      "conv3d_90 (Conv3D)              (None, 50, 50, 50, 6 110656      spatial_attention3d_25[0][0]     \n",
      "__________________________________________________________________________________________________\n",
      "batch_normalization_55 (BatchNo (None, 50, 50, 50, 6 256         conv3d_90[0][0]                  \n",
      "__________________________________________________________________________________________________\n",
      "activation_55 (Activation)      (None, 50, 50, 50, 6 0           batch_normalization_55[0][0]     \n",
      "__________________________________________________________________________________________________\n",
      "add_25 (Add)                    (None, 50, 50, 50, 6 0           activation_55[0][0]              \n",
      "                                                                 add_24[0][0]                     \n",
      "__________________________________________________________________________________________________\n",
      "conv3d_91 (Conv3D)              (None, 25, 25, 25, 1 221312      add_25[0][0]                     \n",
      "__________________________________________________________________________________________________\n",
      "batch_normalization_56 (BatchNo (None, 25, 25, 25, 1 512         conv3d_91[0][0]                  \n",
      "__________________________________________________________________________________________________\n",
      "activation_56 (Activation)      (None, 25, 25, 25, 1 0           batch_normalization_56[0][0]     \n",
      "__________________________________________________________________________________________________\n",
      "channel_attention3d_26 (Channel (None, 25, 25, 25, 1 2048        activation_56[0][0]              \n",
      "__________________________________________________________________________________________________\n",
      "spatial_attention3d_26 (Spatial (None, 25, 25, 25, 1 686         channel_attention3d_26[0][0]     \n",
      "__________________________________________________________________________________________________\n",
      "conv3d_93 (Conv3D)              (None, 25, 25, 25, 1 442496      spatial_attention3d_26[0][0]     \n",
      "__________________________________________________________________________________________________\n",
      "batch_normalization_57 (BatchNo (None, 25, 25, 25, 1 512         conv3d_93[0][0]                  \n",
      "__________________________________________________________________________________________________\n",
      "activation_57 (Activation)      (None, 25, 25, 25, 1 0           batch_normalization_57[0][0]     \n",
      "__________________________________________________________________________________________________\n",
      "conv3d_94 (Conv3D)              (None, 25, 25, 25, 1 8320        add_25[0][0]                     \n",
      "__________________________________________________________________________________________________\n",
      "add_26 (Add)                    (None, 25, 25, 25, 1 0           activation_57[0][0]              \n",
      "                                                                 conv3d_94[0][0]                  \n",
      "__________________________________________________________________________________________________\n",
      "conv3d_95 (Conv3D)              (None, 25, 25, 25, 1 442496      add_26[0][0]                     \n",
      "__________________________________________________________________________________________________\n",
      "batch_normalization_58 (BatchNo (None, 25, 25, 25, 1 512         conv3d_95[0][0]                  \n",
      "__________________________________________________________________________________________________\n",
      "activation_58 (Activation)      (None, 25, 25, 25, 1 0           batch_normalization_58[0][0]     \n",
      "__________________________________________________________________________________________________\n",
      "channel_attention3d_27 (Channel (None, 25, 25, 25, 1 2048        activation_58[0][0]              \n",
      "__________________________________________________________________________________________________\n",
      "spatial_attention3d_27 (Spatial (None, 25, 25, 25, 1 686         channel_attention3d_27[0][0]     \n",
      "__________________________________________________________________________________________________\n",
      "conv3d_97 (Conv3D)              (None, 25, 25, 25, 1 442496      spatial_attention3d_27[0][0]     \n",
      "__________________________________________________________________________________________________\n",
      "batch_normalization_59 (BatchNo (None, 25, 25, 25, 1 512         conv3d_97[0][0]                  \n",
      "__________________________________________________________________________________________________\n",
      "activation_59 (Activation)      (None, 25, 25, 25, 1 0           batch_normalization_59[0][0]     \n",
      "__________________________________________________________________________________________________\n",
      "add_27 (Add)                    (None, 25, 25, 25, 1 0           activation_59[0][0]              \n",
      "                                                                 add_26[0][0]                     \n",
      "__________________________________________________________________________________________________\n",
      "conv3d_98 (Conv3D)              (None, 13, 13, 13, 2 884992      add_27[0][0]                     \n",
      "__________________________________________________________________________________________________\n",
      "batch_normalization_60 (BatchNo (None, 13, 13, 13, 2 1024        conv3d_98[0][0]                  \n",
      "__________________________________________________________________________________________________\n",
      "activation_60 (Activation)      (None, 13, 13, 13, 2 0           batch_normalization_60[0][0]     \n",
      "__________________________________________________________________________________________________\n",
      "channel_attention3d_28 (Channel (None, 13, 13, 13, 2 8192        activation_60[0][0]              \n",
      "__________________________________________________________________________________________________\n",
      "spatial_attention3d_28 (Spatial (None, 13, 13, 13, 2 686         channel_attention3d_28[0][0]     \n",
      "__________________________________________________________________________________________________\n",
      "conv3d_100 (Conv3D)             (None, 13, 13, 13, 2 1769728     spatial_attention3d_28[0][0]     \n",
      "__________________________________________________________________________________________________\n",
      "batch_normalization_61 (BatchNo (None, 13, 13, 13, 2 1024        conv3d_100[0][0]                 \n",
      "__________________________________________________________________________________________________\n",
      "activation_61 (Activation)      (None, 13, 13, 13, 2 0           batch_normalization_61[0][0]     \n",
      "__________________________________________________________________________________________________\n",
      "conv3d_101 (Conv3D)             (None, 13, 13, 13, 2 33024       add_27[0][0]                     \n",
      "__________________________________________________________________________________________________\n",
      "add_28 (Add)                    (None, 13, 13, 13, 2 0           activation_61[0][0]              \n",
      "                                                                 conv3d_101[0][0]                 \n",
      "__________________________________________________________________________________________________\n",
      "conv3d_102 (Conv3D)             (None, 13, 13, 13, 2 1769728     add_28[0][0]                     \n",
      "__________________________________________________________________________________________________\n",
      "batch_normalization_62 (BatchNo (None, 13, 13, 13, 2 1024        conv3d_102[0][0]                 \n",
      "__________________________________________________________________________________________________\n",
      "activation_62 (Activation)      (None, 13, 13, 13, 2 0           batch_normalization_62[0][0]     \n",
      "__________________________________________________________________________________________________\n",
      "channel_attention3d_29 (Channel (None, 13, 13, 13, 2 8192        activation_62[0][0]              \n",
      "__________________________________________________________________________________________________\n",
      "spatial_attention3d_29 (Spatial (None, 13, 13, 13, 2 686         channel_attention3d_29[0][0]     \n",
      "__________________________________________________________________________________________________\n",
      "conv3d_104 (Conv3D)             (None, 13, 13, 13, 2 1769728     spatial_attention3d_29[0][0]     \n",
      "__________________________________________________________________________________________________\n",
      "batch_normalization_63 (BatchNo (None, 13, 13, 13, 2 1024        conv3d_104[0][0]                 \n",
      "__________________________________________________________________________________________________\n",
      "activation_63 (Activation)      (None, 13, 13, 13, 2 0           batch_normalization_63[0][0]     \n",
      "__________________________________________________________________________________________________\n",
      "add_29 (Add)                    (None, 13, 13, 13, 2 0           activation_63[0][0]              \n",
      "                                                                 add_28[0][0]                     \n",
      "__________________________________________________________________________________________________\n",
      "conv3d_105 (Conv3D)             (None, 7, 7, 7, 512) 3539456     add_29[0][0]                     \n",
      "__________________________________________________________________________________________________\n",
      "batch_normalization_64 (BatchNo (None, 7, 7, 7, 512) 2048        conv3d_105[0][0]                 \n",
      "__________________________________________________________________________________________________\n",
      "activation_64 (Activation)      (None, 7, 7, 7, 512) 0           batch_normalization_64[0][0]     \n",
      "__________________________________________________________________________________________________\n",
      "channel_attention3d_30 (Channel (None, 7, 7, 7, 512) 32768       activation_64[0][0]              \n",
      "__________________________________________________________________________________________________\n",
      "spatial_attention3d_30 (Spatial (None, 7, 7, 7, 512) 686         channel_attention3d_30[0][0]     \n",
      "__________________________________________________________________________________________________\n",
      "conv3d_107 (Conv3D)             (None, 7, 7, 7, 512) 7078400     spatial_attention3d_30[0][0]     \n",
      "__________________________________________________________________________________________________\n",
      "batch_normalization_65 (BatchNo (None, 7, 7, 7, 512) 2048        conv3d_107[0][0]                 \n",
      "__________________________________________________________________________________________________\n",
      "activation_65 (Activation)      (None, 7, 7, 7, 512) 0           batch_normalization_65[0][0]     \n",
      "__________________________________________________________________________________________________\n",
      "conv3d_108 (Conv3D)             (None, 7, 7, 7, 512) 131584      add_29[0][0]                     \n",
      "__________________________________________________________________________________________________\n",
      "add_30 (Add)                    (None, 7, 7, 7, 512) 0           activation_65[0][0]              \n",
      "                                                                 conv3d_108[0][0]                 \n",
      "__________________________________________________________________________________________________\n",
      "conv3d_109 (Conv3D)             (None, 7, 7, 7, 512) 7078400     add_30[0][0]                     \n",
      "__________________________________________________________________________________________________\n",
      "batch_normalization_66 (BatchNo (None, 7, 7, 7, 512) 2048        conv3d_109[0][0]                 \n",
      "__________________________________________________________________________________________________\n",
      "activation_66 (Activation)      (None, 7, 7, 7, 512) 0           batch_normalization_66[0][0]     \n",
      "__________________________________________________________________________________________________\n",
      "channel_attention3d_31 (Channel (None, 7, 7, 7, 512) 32768       activation_66[0][0]              \n",
      "__________________________________________________________________________________________________\n",
      "spatial_attention3d_31 (Spatial (None, 7, 7, 7, 512) 686         channel_attention3d_31[0][0]     \n",
      "__________________________________________________________________________________________________\n",
      "conv3d_111 (Conv3D)             (None, 7, 7, 7, 512) 7078400     spatial_attention3d_31[0][0]     \n",
      "__________________________________________________________________________________________________\n",
      "batch_normalization_67 (BatchNo (None, 7, 7, 7, 512) 2048        conv3d_111[0][0]                 \n",
      "__________________________________________________________________________________________________\n",
      "activation_67 (Activation)      (None, 7, 7, 7, 512) 0           batch_normalization_67[0][0]     \n",
      "__________________________________________________________________________________________________\n",
      "add_31 (Add)                    (None, 7, 7, 7, 512) 0           activation_67[0][0]              \n",
      "                                                                 add_30[0][0]                     \n",
      "__________________________________________________________________________________________________\n",
      "global_average_pooling3d_3 (Glo (None, 512)          0           add_31[0][0]                     \n",
      "__________________________________________________________________________________________________\n",
      "dense_3 (Dense)                 (None, 2)            1026        global_average_pooling3d_3[0][0] \n",
      "==================================================================================================\n",
      "Total params: 33,264,370\n",
      "Trainable params: 33,256,562\n",
      "Non-trainable params: 7,808\n",
      "__________________________________________________________________________________________________\n"
     ]
    }
   ],
   "source": [
    "from tensorflow.keras.optimizers import Adam\n",
    "\n",
    "classes = 2\n",
    "image_shape = (*target_shape, 1)\n",
    "model = build_resnet_18(input_shape = image_shape, num_outputs=classes)\n",
    "\n",
    "model.compile(\n",
    "    optimizer=Adam(0.00001), \n",
    "    loss='binary_crossentropy', \n",
    "    metrics=['accuracy', 'Recall', 'AUC', 'Precision']\n",
    ")\n",
    "model.summary()"
   ]
  },
  {
   "cell_type": "code",
   "execution_count": 25,
   "metadata": {
    "execution": {
     "iopub.execute_input": "2024-04-07T18:16:10.926981Z",
     "iopub.status.busy": "2024-04-07T18:16:10.926609Z",
     "iopub.status.idle": "2024-04-08T02:43:09.407751Z",
     "shell.execute_reply": "2024-04-08T02:43:09.406633Z",
     "shell.execute_reply.started": "2024-04-07T18:16:10.926941Z"
    },
    "scrolled": false
   },
   "outputs": [
    {
     "name": "stdout",
     "output_type": "stream",
     "text": [
      "Epoch 1/20\n",
      "44/44 [==============================] - 915s 21s/step - loss: 2.0554 - accuracy: 0.4534 - recall: 0.4534 - auc: 0.4357 - precision: 0.4534 - val_loss: 1.6548 - val_accuracy: 0.5158 - val_recall: 0.5158 - val_auc: 0.5356 - val_precision: 0.5158\n",
      "Epoch 2/20\n",
      "44/44 [==============================] - 903s 21s/step - loss: 1.6463 - accuracy: 0.5587 - recall: 0.5587 - auc: 0.5863 - precision: 0.5587 - val_loss: 1.6918 - val_accuracy: 0.5158 - val_recall: 0.5158 - val_auc: 0.5531 - val_precision: 0.5158\n",
      "Epoch 3/20\n",
      "44/44 [==============================] - 892s 21s/step - loss: 1.6458 - accuracy: 0.5564 - recall: 0.5564 - auc: 0.5810 - precision: 0.5564 - val_loss: 1.7286 - val_accuracy: 0.5158 - val_recall: 0.5158 - val_auc: 0.5362 - val_precision: 0.5158\n",
      "Epoch 4/20\n",
      "44/44 [==============================] - 896s 21s/step - loss: 1.6312 - accuracy: 0.5865 - recall: 0.5865 - auc: 0.6221 - precision: 0.5865 - val_loss: 1.7445 - val_accuracy: 0.5158 - val_recall: 0.5158 - val_auc: 0.5432 - val_precision: 0.5158\n",
      "Epoch 5/20\n",
      "44/44 [==============================] - 890s 21s/step - loss: 1.6534 - accuracy: 0.5244 - recall: 0.5244 - auc: 0.5555 - precision: 0.5244 - val_loss: 1.7633 - val_accuracy: 0.5158 - val_recall: 0.5158 - val_auc: 0.5350 - val_precision: 0.5158\n",
      "Epoch 6/20\n",
      "44/44 [==============================] - 885s 21s/step - loss: 1.6539 - accuracy: 0.5112 - recall: 0.5112 - auc: 0.5437 - precision: 0.5112 - val_loss: 1.7943 - val_accuracy: 0.5158 - val_recall: 0.5158 - val_auc: 0.5355 - val_precision: 0.5158\n",
      "Epoch 7/20\n",
      "44/44 [==============================] - 884s 21s/step - loss: 1.6405 - accuracy: 0.5587 - recall: 0.5587 - auc: 0.5862 - precision: 0.5587 - val_loss: 1.7798 - val_accuracy: 0.5158 - val_recall: 0.5158 - val_auc: 0.5492 - val_precision: 0.5158\n",
      "Epoch 8/20\n",
      "44/44 [==============================] - 890s 21s/step - loss: 1.6332 - accuracy: 0.5767 - recall: 0.5767 - auc: 0.5991 - precision: 0.5767 - val_loss: 1.7722 - val_accuracy: 0.5158 - val_recall: 0.5158 - val_auc: 0.5529 - val_precision: 0.5158\n",
      "Epoch 9/20\n",
      "44/44 [==============================] - 890s 21s/step - loss: 1.6472 - accuracy: 0.5380 - recall: 0.5380 - auc: 0.5805 - precision: 0.5380 - val_loss: 1.7260 - val_accuracy: 0.5158 - val_recall: 0.5158 - val_auc: 0.5577 - val_precision: 0.5158\n",
      "Epoch 10/20\n",
      "44/44 [==============================] - 893s 21s/step - loss: 1.6583 - accuracy: 0.5396 - recall: 0.5396 - auc: 0.5675 - precision: 0.5396 - val_loss: 1.7341 - val_accuracy: 0.5211 - val_recall: 0.5211 - val_auc: 0.5660 - val_precision: 0.5211\n",
      "Epoch 11/20\n",
      "44/44 [==============================] - 891s 21s/step - loss: 1.6612 - accuracy: 0.5625 - recall: 0.5625 - auc: 0.5630 - precision: 0.5625 - val_loss: 1.6553 - val_accuracy: 0.5789 - val_recall: 0.5789 - val_auc: 0.5892 - val_precision: 0.5789\n",
      "Epoch 12/20\n",
      "44/44 [==============================] - 889s 21s/step - loss: 1.6411 - accuracy: 0.5867 - recall: 0.5867 - auc: 0.6070 - precision: 0.5867 - val_loss: 1.6328 - val_accuracy: 0.5842 - val_recall: 0.5842 - val_auc: 0.6174 - val_precision: 0.5842\n",
      "Epoch 13/20\n",
      "44/44 [==============================] - 889s 21s/step - loss: 1.6314 - accuracy: 0.5968 - recall: 0.5968 - auc: 0.6292 - precision: 0.5968 - val_loss: 1.9375 - val_accuracy: 0.5211 - val_recall: 0.5211 - val_auc: 0.5689 - val_precision: 0.5211\n",
      "Epoch 14/20\n",
      "44/44 [==============================] - 888s 21s/step - loss: 1.6075 - accuracy: 0.6201 - recall: 0.6201 - auc: 0.6575 - precision: 0.6201 - val_loss: 1.6514 - val_accuracy: 0.5737 - val_recall: 0.5737 - val_auc: 0.6116 - val_precision: 0.5737\n",
      "Epoch 15/20\n",
      "44/44 [==============================] - 887s 21s/step - loss: 1.5885 - accuracy: 0.6038 - recall: 0.6038 - auc: 0.6793 - precision: 0.6038 - val_loss: 1.6574 - val_accuracy: 0.5789 - val_recall: 0.5789 - val_auc: 0.6150 - val_precision: 0.5789\n",
      "Epoch 16/20\n",
      "44/44 [==============================] - 887s 21s/step - loss: 1.5676 - accuracy: 0.6488 - recall: 0.6488 - auc: 0.7140 - precision: 0.6488 - val_loss: 1.6346 - val_accuracy: 0.6000 - val_recall: 0.6000 - val_auc: 0.6177 - val_precision: 0.6000\n",
      "Epoch 17/20\n",
      "44/44 [==============================] - 890s 21s/step - loss: 1.5654 - accuracy: 0.6843 - recall: 0.6843 - auc: 0.7193 - precision: 0.6843 - val_loss: 1.6514 - val_accuracy: 0.5579 - val_recall: 0.5579 - val_auc: 0.6197 - val_precision: 0.5579\n",
      "Epoch 18/20\n",
      "44/44 [==============================] - 890s 21s/step - loss: 1.5280 - accuracy: 0.6936 - recall: 0.6936 - auc: 0.7629 - precision: 0.6936 - val_loss: 1.6909 - val_accuracy: 0.5474 - val_recall: 0.5474 - val_auc: 0.5794 - val_precision: 0.5474\n",
      "Epoch 19/20\n",
      "44/44 [==============================] - 887s 21s/step - loss: 1.5481 - accuracy: 0.6728 - recall: 0.6728 - auc: 0.7369 - precision: 0.6728 - val_loss: 1.8995 - val_accuracy: 0.4789 - val_recall: 0.4789 - val_auc: 0.5480 - val_precision: 0.4789\n",
      "Epoch 20/20\n",
      "44/44 [==============================] - 889s 21s/step - loss: 1.5529 - accuracy: 0.6911 - recall: 0.6911 - auc: 0.7372 - precision: 0.6911 - val_loss: 1.6627 - val_accuracy: 0.5684 - val_recall: 0.5684 - val_auc: 0.5838 - val_precision: 0.5684\n"
     ]
    }
   ],
   "source": [
    "num_epoch = 20\n",
    "history = model.fit(\n",
    "    train_dataset,\n",
    "    epochs = num_epoch,\n",
    "    steps_per_epoch = len(train_paths) // batch_size,\n",
    "    validation_data = test_dataset,\n",
    "    validation_steps= len(test_paths) // batch_size,\n",
    "    class_weight = {0:class_weights[0], 1:class_weights[1]}\n",
    ")"
   ]
  },
  {
   "cell_type": "code",
   "execution_count": 13,
   "metadata": {
    "execution": {
     "iopub.execute_input": "2024-04-08T02:58:53.031433Z",
     "iopub.status.busy": "2024-04-08T02:58:53.031080Z",
     "iopub.status.idle": "2024-04-08T02:58:54.087560Z",
     "shell.execute_reply": "2024-04-08T02:58:54.086437Z",
     "shell.execute_reply.started": "2024-04-08T02:58:53.031404Z"
    }
   },
   "outputs": [],
   "source": [
    "model.save(\"results/new_nonroi_30.h5\")"
   ]
  },
  {
   "cell_type": "code",
   "execution_count": 14,
   "metadata": {
    "execution": {
     "iopub.execute_input": "2024-04-08T02:59:11.229900Z",
     "iopub.status.busy": "2024-04-08T02:59:11.228969Z",
     "iopub.status.idle": "2024-04-08T02:59:12.183739Z",
     "shell.execute_reply": "2024-04-08T02:59:12.182788Z",
     "shell.execute_reply.started": "2024-04-08T02:59:11.229860Z"
    },
    "scrolled": false
   },
   "outputs": [
    {
     "data": {
      "image/png": "[encoded data removed]",
      "text/plain": [
       "<Figure size 1200x600 with 2 Axes>"
      ]
     },
     "metadata": {},
     "output_type": "display_data"
    }
   ],
   "source": [
    "plt.figure(figsize=(12, 6))\n",
    "plt.subplot(1, 2, 1)\n",
    "plt.plot(history.history['accuracy'])\n",
    "plt.plot(history.history['val_accuracy'])\n",
    "plt.title('NON-ROI model accuracy')\n",
    "plt.ylabel('Accuracy')\n",
    "plt.xlabel('Epoch')\n",
    "plt.legend(['Train', 'Validation'], loc='upper left')\n",
    "\n",
    "\n",
    "plt.subplot(1, 2, 2)\n",
    "plt.plot(history.history['loss'])\n",
    "plt.plot(history.history['val_loss'])\n",
    "plt.title('NON-ROI model loss')\n",
    "plt.ylabel('Loss')\n",
    "plt.xlabel('Epoch')\n",
    "plt.legend(['Train', 'Validation'], loc='upper left')\n",
    "plt.savefig(\"results/nonroi_30epoch.png\")\n",
    "\n",
    "plt.tight_layout()\n",
    "plt.show()"
   ]
  },
  {
   "cell_type": "code",
   "execution_count": 15,
   "metadata": {
    "execution": {
     "iopub.execute_input": "2024-04-08T02:59:18.609600Z",
     "iopub.status.busy": "2024-04-08T02:59:18.608822Z",
     "iopub.status.idle": "2024-04-08T03:06:11.015274Z",
     "shell.execute_reply": "2024-04-08T03:06:11.014322Z",
     "shell.execute_reply.started": "2024-04-08T02:59:18.609560Z"
    }
   },
   "outputs": [
    {
     "name": "stdout",
     "output_type": "stream",
     "text": [
      "19/19 [==============================] - 127s 7s/step - loss: 1.8767 - accuracy: 0.6474 - recall: 0.6474 - auc: 0.7236 - precision: 0.6474\n"
     ]
    }
   ],
   "source": [
    "res = model.evaluate(\n",
    "    test_dataset,\n",
    "    steps = len(test_paths) // batch_size,\n",
    "    verbose = 1\n",
    ")"
   ]
  },
  {
   "cell_type": "code",
   "execution_count": 16,
   "metadata": {
    "execution": {
     "iopub.execute_input": "2024-04-08T03:06:11.017316Z",
     "iopub.status.busy": "2024-04-08T03:06:11.017000Z",
     "iopub.status.idle": "2024-04-08T03:06:11.022665Z",
     "shell.execute_reply": "2024-04-08T03:06:11.021821Z",
     "shell.execute_reply.started": "2024-04-08T03:06:11.017290Z"
    }
   },
   "outputs": [
    {
     "name": "stdout",
     "output_type": "stream",
     "text": [
      "Testing Accuracy:0.65 - Loss:1.88 - Recall:0.65 - AUC:0.72 - Precision:0.65\n"
     ]
    }
   ],
   "source": [
    "print(f\"Testing Accuracy:{res[1]:.2f} - Loss:{res[0]:.2f} - Recall:{res[2]:.2f} - AUC:{res[3]:.2f} - Precision:{res[4]:.2f}\")"
   ]
  },
  {
   "cell_type": "code",
   "execution_count": 17,
   "metadata": {
    "execution": {
     "iopub.execute_input": "2024-04-08T03:06:11.024054Z",
     "iopub.status.busy": "2024-04-08T03:06:11.023732Z"
    }
   },
   "outputs": [
    {
     "name": "stdout",
     "output_type": "stream",
     "text": [
      "19/19 [==============================] - 127s 7s/step\n"
     ]
    }
   ],
   "source": [
    "y_pred = model.predict(\n",
    "    test_dataset,\n",
    "    steps = len(test_paths) // batch_size,\n",
    "    verbose = 1\n",
    ")"
   ]
  },
  {
   "cell_type": "code",
   "execution_count": 18,
   "metadata": {},
   "outputs": [],
   "source": [
    "y_pred_arg = np.argmax(y_pred, axis=1)\n",
    "y_pred_arg = y_pred_arg.tolist()"
   ]
  },
  {
   "cell_type": "code",
   "execution_count": 19,
   "metadata": {},
   "outputs": [],
   "source": [
    "true_labels = []\n",
    "for i in range(0, len(test_paths), batch_size):\n",
    "    batch_labels = test_labels[i:i + batch_size]\n",
    "    true_labels.extend(batch_labels)\n",
    "    \n",
    "if len(y_pred) != len(true_labels):\n",
    "    true_labels = true_labels[:len(y_pred)]"
   ]
  },
  {
   "cell_type": "code",
   "execution_count": 20,
   "metadata": {},
   "outputs": [
    {
     "data": {
      "image/png": "[encoded data removed]",
      "text/plain": [
       "<Figure size 500x500 with 2 Axes>"
      ]
     },
     "metadata": {},
     "output_type": "display_data"
    }
   ],
   "source": [
    "import seaborn as sns\n",
    "from sklearn.metrics import confusion_matrix\n",
    "\n",
    "\n",
    "c_matrix = confusion_matrix(true_labels, y_pred_arg)\n",
    "plt.figure(figsize=(5, 5))\n",
    "sns.heatmap(c_matrix, annot=True, fmt='d', cmap='Blues')\n",
    "plt.title('NON-ROI confusion Matrix')\n",
    "plt.xlabel('Predicted Labels')\n",
    "plt.ylabel('True Labels')\n",
    "plt.savefig(\"results/nonroi 30epoch confusion_matrix.png\")\n",
    "plt.show()"
   ]
  },
  {
   "cell_type": "code",
   "execution_count": null,
   "metadata": {},
   "outputs": [],
   "source": []
  },
  {
   "cell_type": "code",
   "execution_count": null,
   "metadata": {},
   "outputs": [],
   "source": []
  }
 ],
 "metadata": {
  "kaggle": {
   "accelerator": "nvidiaTeslaT4",
   "dataSources": [
    {
     "datasetId": 4520257,
     "sourceId": 7734968,
     "sourceType": "datasetVersion"
    }
   ],
   "dockerImageVersionId": 30674,
   "isGpuEnabled": true,
   "isInternetEnabled": true,
   "language": "python",
   "sourceType": "notebook"
  },
  "kernelspec": {
   "display_name": "tf_conda",
   "language": "python",
   "name": "tf_conda"
  },
  "language_info": {
   "codemirror_mode": {
    "name": "ipython",
    "version": 3
   },
   "file_extension": ".py",
   "mimetype": "text/x-python",
   "name": "python",
   "nbconvert_exporter": "python",
   "pygments_lexer": "ipython3",
   "version": "3.7.16"
  }
 },
 "nbformat": 4,
 "nbformat_minor": 4
}
